{
 "cells": [
  {
   "cell_type": "markdown",
   "metadata": {},
   "source": [
    "<div style='text-align:center'>\n",
    "\n",
    "<span style=\"color:green; font-size:40px;\">Created by Soulayman</span>\n",
    "</div>"
   ]
  },
  {
   "cell_type": "markdown",
   "metadata": {},
   "source": [
    "<div style='text-align:center'>\n",
    "    <span>\n",
    "        <a href='https://www.linkedin.com/in/soulayman-el-guasmi-13b890240/'>\n",
    "        <img src='icons8-linkedin-96.png' style='width:36px;height:auto'>Click me ;)</a>\n",
    "        </br>\n",
    "        <a href='https://soulayman2022.github.io/Data_Scientist_Portfolio/'>\n",
    "        <img src='icons8-portfolio-100.png' style='width:32px;height:auto'> Click me too ;)</a>\n",
    "        </br>\n",
    "        <a href=\"https://github.com/SouLayman2022\">\n",
    "        <img src=\"GitHub-Logo.png\" style='width:32px;height:auto'> Click another time ;)</a>\n",
    "    </span>\n",
    "</div>"
   ]
  },
  {
   "cell_type": "markdown",
   "metadata": {},
   "source": [
    "<div style=\"text-align:center\">\n",
    "    <span style=\"color:green; font-size:40px\">Machine Learning</span><br/>\n",
    "\n",
    "<img src='W3Schools_logo.svg.png' style=' width:480px; height:auto'/>\n",
    "<br/>\n",
    "\n",
    "### Redirection to course link : <a href='https://www.w3schools.com/python/python_ml_getting_started.asp'>link to course</a>\n",
    "</div>"
   ]
  },
  {
   "cell_type": "markdown",
   "metadata": {},
   "source": [
    "<div style=\"text-align:center\">\n",
    "<span style='color:green; font-size:40px'>Introduction</span><br/>\n",
    "<p style='color: #85929e; font-size:20px'>Welcome to the Machine Learning Course!\n",
    "Machine learning is a fascinating field that empowers computers to learn from data and make decisions without being explicitly programmed. In this course, we will embark on an exciting journey to explore the fundamental concepts, algorithms, and applications of machine learning.</p>\n",
    "<p style='color: #85929e; font-size:20px'>Throughout this course, you will gain a deep understanding of various machine learning techniques, ranging from classic algorithms like linear regression and decision trees to advanced methods such as neural networks and deep learning.</p>\n",
    "<p style='color: #85929e; font-size:20px'>Lastely i made this course for my own study purpose, and decided to share it on git, so it will be accessible by my classemates aswell if they find it useful.</p>\n",
    "<p style='color: #85929e; font-size:20px'>Feel free fork or to customize this course as you want </p><br/>\n",
    "\n",
    "</div>"
   ]
  },
  {
   "cell_type": "markdown",
   "metadata": {},
   "source": [
    "<span style='color:green; font-size:40px'>Table of content</span><br/>\n",
    "- 0 Importing\n",
    "- 1 Data types</br>\n",
    "    - 1.1 <a>Data types</a>\n",
    "    - 1.2 <a>Understanding the terminology</a>\n",
    "- 2 Mean, Median and Mode\n",
    "    - 2.1 <a>MMM</a>\n",
    "    - 2.1 <a>Loss functions</a>\n",
    "- 3 <a>Standar Deviation</a>\n",
    "- 4 <a>Variance</a>\n",
    "- 5 <a>Percentiles or quantiles</a>\n",
    "- 6 <a>Data distribution</a>\n",
    "- 7 <a>Normal distribution</a>\n",
    "- 8 <a>Random data distribution</a>\n",
    "- 9 Linear regression\n",
    "    - 9.1 <a>Linear regression</a>\n",
    "    - 9.2 <a>Linear regression Parameters</a>\n",
    "    - 9.3 <a>Ploting the relation line</a>\n",
    "    - 9.4 <a>Predict future values</a>\n",
    "    - 9.5 <a>Bad fit ?</a>\n",
    "- 10 Polynomial regression\n",
    "    - 10.1 <a>Polynomial regression</a>\n",
    "    - 10.2 <a>Ploting the data points</a>\n",
    "    - 10.3 <a>numpy method for polynomial model</a>\n",
    "    - 10.4 <a>Ploting the relation line</a>\n",
    "    - 10.5 <a>Scatter plot</a>\n",
    "    - 10.6 <a>R-Squared</a>\n",
    "    - 10.7 <a>Predict future values</a>\n",
    "    - 10.8 <a>Bad fit ?</a>\n",
    "- 11 Multiple regression\n",
    "    - 11.1 <a>Multiple regression</a>\n",
    "    - 11.2 <a>Coefficient</a>\n",
    "- 12 Scale\n",
    "    - 12.1 <a>Scale</a>\n",
    "    - 12.2 <a>Standardazition</a>\n",
    "    - 12.3 <a>Predict future CO2 values</a>\n",
    "- 13 Train / Test\n",
    "    - 13.1 <a>Model evaluation</a>\n",
    "    - 13.1 <a>Data set</a>\n",
    "    - 13.1 <a>Split into train / test</a>\n",
    "    - 13.1 <a>Dsiplay the training model</a>\n",
    "    - 13.1 <a>Display the test set</a>\n",
    "    - 13.1 <a>Fit the data set</a>\n",
    "    - 13.1 <a>R2 squared</a>\n",
    "    - 13.1 <a>Predict the values</a>\n",
    "- 14 Decision Tree\n",
    "    - 14.1 <a>Decision Tree</a>\n",
    "    - 14.2 <a>Decision Tree</a>\n",
    "    - 14.3 <a>Decision Tree</a>\n"
   ]
  },
  {
   "cell_type": "markdown",
   "metadata": {},
   "source": [
    "<span style='color:green; font-size:40px'>0 - Importing necessary Modules and libs</span><br/>\n"
   ]
  },
  {
   "cell_type": "code",
   "execution_count": 1,
   "metadata": {},
   "outputs": [],
   "source": [
    "import numpy as np\n",
    "\n",
    "from scipy import stats\n",
    "\n",
    "import pandas as pd\n",
    "\n",
    "import matplotlib.pyplot as plt\n",
    "\n",
    "from sklearn.linear_model import LinearRegression\n",
    "from sklearn import linear_model \n",
    "from sklearn.metrics import r2_score\n",
    "from sklearn.preprocessing import StandardScaler\n",
    "from sklearn.metrics import mean_squared_error\n",
    "from sklearn import tree\n",
    "from sklearn.tree import DecisionTreeClassifier"
   ]
  },
  {
   "cell_type": "markdown",
   "metadata": {},
   "source": [
    "<span style='color:green; font-size:40px'>1.1 - Data Types</span><br/>\n",
    "<ul>\n",
    "    <li>a)\tQualitative Features </li>\n",
    "        <ul>\n",
    "            <li>Nominal Data : categorical data ( finite number of categories or groups ), cannot be ordered</li>\n",
    "            </br>\n",
    "            <img src='nominal_data.png'>\n",
    "            </br>\n",
    "            <li>On this exemple we will use one hot encoding to index the data, we can go up to 64 bits, on real wordl a.i the number of paramters to train a model is from  7 billion up to 175 billion ( Chat_Gpt foro exemple)</li>\n",
    "            </br>\n",
    "            <img src='one_hot_encoding.png'>\n",
    "            </br>\n",
    "            <li>Ordinal Data : data that can be ordered like age, size, satisfaction …etc</li>\n",
    "            </br>\n",
    "            <img src='ordinal_data.png'>\n",
    "            </br>\n",
    "        </ul>\n",
    "        </br>\n",
    "    <li>b)\tQuantitative Features </li>\n",
    "        <ul>\n",
    "                <li>Continuous numerical Data :  it represents real numbers or a range</li>\n",
    "                </br>\n",
    "                <img src='Continuos_data.png'>\n",
    "                </br>\n",
    "                <li>Discrete numerical Data : it represents discontinuous data, integers</li>\n",
    "                </br>\n",
    "                <img src='Discret_data.png'></br>\n",
    "        </ul>\n",
    "</ul>"
   ]
  },
  {
   "cell_type": "markdown",
   "metadata": {},
   "source": [
    "<span style='color:green; font-size:40px'>1.2 - Understanding the terminology</span><br/>\n",
    "\n",
    "<img src=\"Multiple Regression2.jpg\">"
   ]
  },
  {
   "cell_type": "markdown",
   "metadata": {},
   "source": [
    "<span style='color:green; font-size:40px'>2.1 - Mean, Median, and Mode</span>"
   ]
  },
  {
   "cell_type": "markdown",
   "metadata": {},
   "source": [
    "<ul>\n",
    "    <li>a) Mean </li>\n",
    "</ul>"
   ]
  },
  {
   "cell_type": "code",
   "execution_count": 2,
   "metadata": {},
   "outputs": [
    {
     "name": "stdout",
     "output_type": "stream",
     "text": [
      "89.76923076923077\n"
     ]
    }
   ],
   "source": [
    "speed = [99,86,87,88,111,86,103,87,94,78,77,85,86]\n",
    "\n",
    "x = np.mean(speed)\n",
    "\n",
    "print(x)"
   ]
  },
  {
   "cell_type": "markdown",
   "metadata": {},
   "source": [
    "<ul>\n",
    "    <li>b) Median </li>\n",
    "</ul>"
   ]
  },
  {
   "cell_type": "code",
   "execution_count": 3,
   "metadata": {},
   "outputs": [
    {
     "name": "stdout",
     "output_type": "stream",
     "text": [
      "87.0\n"
     ]
    }
   ],
   "source": [
    "#if number of data points is odd it's middle value if not \n",
    "#it's the sum of the 2 middle values\n",
    "speed = [99,86,87,88,111,86,103,87,94,78,77,85,86]\n",
    "\n",
    "x = np.median(speed)\n",
    "\n",
    "print(x) "
   ]
  },
  {
   "cell_type": "markdown",
   "metadata": {},
   "source": [
    "<ul>\n",
    "    <li>c) Mode </li>\n",
    "</ul>"
   ]
  },
  {
   "cell_type": "code",
   "execution_count": 4,
   "metadata": {},
   "outputs": [
    {
     "name": "stdout",
     "output_type": "stream",
     "text": [
      "ModeResult(mode=86, count=3)\n"
     ]
    }
   ],
   "source": [
    "speed = [99,86,87,88,111,86,103,87,94,78,77,85,86]\n",
    "\n",
    "x = stats.mode(speed)\n",
    "\n",
    "print(x)"
   ]
  },
  {
   "cell_type": "markdown",
   "metadata": {},
   "source": [
    "<span style='color:green; font-size:40px'>2.2 - MSE, RMSE and other loss func</span>"
   ]
  },
  {
   "cell_type": "markdown",
   "metadata": {},
   "source": [
    "- what they are used for : they quantify the difference between predicted values and actual values"
   ]
  },
  {
   "cell_type": "markdown",
   "metadata": {},
   "source": [
    "- MSE (Mean Squared Error)\n",
    "- RMSE (Root Mean Squared Error)\n",
    "- RMSD (Root Mean Squared Deviation)"
   ]
  },
  {
   "cell_type": "markdown",
   "metadata": {},
   "source": [
    "<img src=\"MSE.png\" style=\"width:320px;height:auto\"></br>\n",
    "<img src=\"RMSE.jpg\" style=\"width:320px;height:auto\"></br>\n",
    "\n",
    "<img src=\"RMSD.png\" style=\"width:320px;height:auto\">"
   ]
  },
  {
   "cell_type": "markdown",
   "metadata": {},
   "source": [
    "Logarithmic Loss 1 and 2\n",
    "\n",
    "<img src=\"L1_and_L2_Loss_func.png\">"
   ]
  },
  {
   "cell_type": "markdown",
   "metadata": {},
   "source": [
    "- Binary Cross-Entropy Loss\n",
    "\n",
    "<img src=\"Binary_cross_loss.png\">"
   ]
  },
  {
   "cell_type": "code",
   "execution_count": 5,
   "metadata": {},
   "outputs": [
    {
     "name": "stdout",
     "output_type": "stream",
     "text": [
      "Mean Squared Error (MSE): 0.375\n",
      "Root Mean Squared Error (RMSE): 0.6123724356957945\n"
     ]
    }
   ],
   "source": [
    "y_true = np.array([3, -0.5, 2, 7])\n",
    "\n",
    "y_pred = np.array([2.5, 0.0, 2, 8])\n",
    "\n",
    "# Calculate MSE using NumPy\n",
    "mse = np.mean((y_true - y_pred) ** 2)\n",
    "print(\"Mean Squared Error (MSE):\", mse)\n",
    "\n",
    "# Calculate RMSE using NumPy\n",
    "rmse = np.sqrt(mse)\n",
    "print(\"Root Mean Squared Error (RMSE):\", rmse)"
   ]
  },
  {
   "cell_type": "markdown",
   "metadata": {},
   "source": [
    "<span style='font-size:40px; color:green'>3 - Standard Deviation</span> </br>\n",
    "<img src=\"./SD.png\"></br>\n",
    "Standard deviation is a number that describes how spread out the values are.\n",
    "\n",
    "A low standard deviation means that most of the numbers are close to the mean (average) value.\n",
    "\n",
    "A high standard deviation means that the values are spread out over a wider range."
   ]
  },
  {
   "cell_type": "code",
   "execution_count": 6,
   "metadata": {},
   "outputs": [
    {
     "name": "stdout",
     "output_type": "stream",
     "text": [
      "The sd is small 0.90.\n",
      "Which mean the all values are within a range of 0.90 max\n",
      "From mean value which is : 86.43\n"
     ]
    }
   ],
   "source": [
    "speed = [86,87,88,86,87,85,86]\n",
    "\n",
    "x = np.std(speed)\n",
    "y = np.mean(speed)\n",
    "\n",
    "print(f'The sd is small {x:.2f}.\\nWhich mean the all values are within a range of {x:.2f} max\\nFrom mean value which is : {y:.2f}')\n"
   ]
  },
  {
   "cell_type": "markdown",
   "metadata": {},
   "source": [
    "<span style='font-size:40px; color:green'>4 - Variance</span> </br>\n",
    "<img src=\"./Variance.png\"> </br>\n",
    "Variance is another number that indicates how spread out the values are.\n",
    "\n",
    "In fact, if you take the square root of the variance, you get the standard deviation!\n",
    "\n",
    "Or the other way around, if you multiply the standard deviation by itself, you get the variance!"
   ]
  },
  {
   "cell_type": "code",
   "execution_count": 7,
   "metadata": {},
   "outputs": [
    {
     "name": "stdout",
     "output_type": "stream",
     "text": [
      "the standard deviation is square root of Variance : 0.82\n",
      "the Variance is square of standard deviation : 0.90\n"
     ]
    }
   ],
   "source": [
    "z = np.var(speed)\n",
    "print(f'the standard deviation is square root of Variance : {z:.2f}')\n",
    "print(f'the Variance is square of standard deviation : {x:.2f}')"
   ]
  },
  {
   "cell_type": "markdown",
   "metadata": {},
   "source": [
    "Standard Deviation: σ\n",
    "\n",
    "Variance: σ2 "
   ]
  },
  {
   "cell_type": "markdown",
   "metadata": {},
   "source": [
    "<span style='font-size:40px; color:green'>5 - Percentiles or quantiles</span> </br>\n"
   ]
  },
  {
   "cell_type": "markdown",
   "metadata": {},
   "source": [
    "Percentiles are used in statistics to give you a number that describes the value that a given percent of the values are lower than.\n",
    "\n",
    "in numpy we use the method name <span style='color: #3498db'>.percentile(value)</span> while in pandas we use <span style='color: #3498db'>.quantile(value)</span>"
   ]
  },
  {
   "cell_type": "code",
   "execution_count": 8,
   "metadata": {},
   "outputs": [
    {
     "name": "stdout",
     "output_type": "stream",
     "text": [
      "43.0\n",
      "43.0\n"
     ]
    }
   ],
   "source": [
    "ages = [5,31,43,48,50,41,7,11,15,39,80,82,32,2,8,6,25,36,27,61,31]\n",
    "x = np.percentile(ages, 75)\n",
    "\n",
    "ages2 = pd.Series([5,31,43,48,50,41,7,11,15,39,80,82,32,2,8,6,25,36,27,61,31]) #Pandas Serie\n",
    "quantile_val = ages2.quantile(0.75)\n",
    "\n",
    "print(x)\n",
    "print(quantile_val)"
   ]
  },
  {
   "cell_type": "markdown",
   "metadata": {},
   "source": [
    "What is the 75. percentile? The answer is 43, meaning that 75% of the people are 43 or younger."
   ]
  },
  {
   "cell_type": "markdown",
   "metadata": {},
   "source": [
    "<span style='font-size:40px; color:green'>6 - Data distribution</span> </br>\n"
   ]
  },
  {
   "cell_type": "markdown",
   "metadata": {},
   "source": [
    "- Create an array containing 250 random floats between 0 and 5:"
   ]
  },
  {
   "cell_type": "code",
   "execution_count": 9,
   "metadata": {},
   "outputs": [
    {
     "name": "stdout",
     "output_type": "stream",
     "text": [
      "[3.26717197 3.3193368  3.48182872 1.99238506 4.98943825 0.95613365\n",
      " 4.9544187  0.07608137 2.40485621 4.46175585 3.7258729  2.71877054\n",
      " 2.16665844 2.71777882 4.61490362 1.5498244  4.25896116 2.95860892\n",
      " 4.95417166 0.25066963 1.4660133  4.30645634 1.2950789  1.32378708\n",
      " 1.24444639 1.76795299 1.12331067 4.24207636 3.18116688 4.20474123\n",
      " 4.77622025 0.70188276 3.34375075 3.38066964 2.11278398 0.18934393\n",
      " 0.11626998 2.95036188 1.09774668 0.34674066 3.27059536 4.96965421\n",
      " 3.9895213  3.60960385 2.78963965 0.68790487 2.21739134 2.858245\n",
      " 1.17269759 0.81530909 0.37437675 2.78328044 1.28997729 3.84004621\n",
      " 4.95450428 4.24713196 2.58672737 2.51420143 4.61991556 0.58414454\n",
      " 2.80249794 0.01580348 4.85973534 0.62499873 2.76304355 0.0515599\n",
      " 0.89413296 4.99604391 0.8843564  2.92898001 4.66109861 1.4840836\n",
      " 3.71454387 2.48811404 1.31501623 1.63176342 2.29928783 0.50162632\n",
      " 0.47842018 1.0288666  4.27441979 4.42780085 4.20942562 3.40849029\n",
      " 3.40083583 2.98280329 2.27264558 0.89531257 3.49526331 3.8351535\n",
      " 3.99598072 4.84875093 2.50640783 1.17695746 3.85387343 3.40700277\n",
      " 4.57503359 3.11522433 2.16431284 1.56352754 3.06322023 2.4085087\n",
      " 3.88388275 0.25812545 0.88259641 4.69195243 2.44039353 0.84411741\n",
      " 1.74049968 4.96852463 4.14963484 0.06884262 2.40356556 4.32594568\n",
      " 1.45482097 3.84879661 1.00515858 1.80303731 0.16678965 0.69740137\n",
      " 4.41150553 0.99178956 3.18711699 0.30917302 4.65386493 4.87072695\n",
      " 4.20121868 0.36143864 3.33851527 2.30039218 4.52025071 1.47880199\n",
      " 4.11375802 3.29350555 1.04388879 1.84162714 4.08356676 0.04209647\n",
      " 3.26008417 3.73972226 3.26962128 1.49820427 4.62815689 3.06237112\n",
      " 3.59818768 3.97478183 1.04516336 1.45904006 0.7610529  1.15968208\n",
      " 1.19910333 4.34691324 2.41090482 3.10095063 2.85977695 2.06997352\n",
      " 0.19271275 4.07099898 4.54972954 4.4219704  2.13223258 1.50355119\n",
      " 1.20335722 1.29877909 1.24321487 3.52488796 3.27745653 3.35430254\n",
      " 2.33779459 1.38337172 4.20168537 3.0042413  3.52601151 4.77064702\n",
      " 3.21553471 0.71255211 3.68078665 0.27394219 4.5585308  3.32760483\n",
      " 2.17836035 1.7452367  3.89866128 0.26969138 0.37227911 2.35236474\n",
      " 1.74523641 2.3184659  1.01103018 3.11755359 4.16507892 1.21383965\n",
      " 3.63198292 0.49200982 1.93747607 1.76139012 4.43233238 2.99555714\n",
      " 1.0796194  3.37206145 0.55841653 1.79606128 3.75691907 4.05865381\n",
      " 1.45599484 2.68074456 3.75341271 3.58066771 0.8488144  1.31892901\n",
      " 3.84835317 3.11683788 4.34607987 4.63583864 2.58904214 1.18936138\n",
      " 1.77843005 3.47540539 3.35364371 0.79602618 3.54647926 1.39271252\n",
      " 3.93728605 0.23123159 4.80456921 4.30650053 4.13194204 1.85083561\n",
      " 1.7928631  0.09634233 1.38178801 0.21467874 1.39506892 3.12067105\n",
      " 0.37309193 0.06477587 0.54437409 2.27892863 3.75577349 3.59021417\n",
      " 2.92442867 0.48875571 3.11260873 4.23200567 1.53298072 0.48063597\n",
      " 2.51397643 0.67431432 0.1353288  1.14773024]\n"
     ]
    }
   ],
   "source": [
    "x = np.random.uniform(0.0, 5.0, 250)\n",
    "\n",
    "print(x) "
   ]
  },
  {
   "cell_type": "markdown",
   "metadata": {},
   "source": [
    "- how much data is generated between ech number from 0 to 5"
   ]
  },
  {
   "cell_type": "code",
   "execution_count": 10,
   "metadata": {},
   "outputs": [
    {
     "data": {
      "image/png": "[encoded data removed]",
      "text/plain": [
       "<Figure size 640x480 with 1 Axes>"
      ]
     },
     "metadata": {},
     "output_type": "display_data"
    }
   ],
   "source": [
    "plt.hist(x, 5)\n",
    "plt.show() "
   ]
  },
  {
   "cell_type": "markdown",
   "metadata": {},
   "source": [
    "#### - loc: Represents the mean or center value of the distribution.\n",
    "\n",
    "#### - scale: Indicates the standard deviation, which measures the spread or dispersion of the data points around the mean. It provides a sense of how much most of the data points deviate from the mean.\n",
    "\n",
    "#### - size: Specifies the number of random samples to generate from the distribution."
   ]
  },
  {
   "cell_type": "code",
   "execution_count": 11,
   "metadata": {},
   "outputs": [
    {
     "data": {
      "image/png": "[encoded data removed]",
      "text/plain": [
       "<Figure size 640x480 with 1 Axes>"
      ]
     },
     "metadata": {},
     "output_type": "display_data"
    }
   ],
   "source": [
    "# Generate random data\n",
    "data = np.random.normal(loc=0, scale=1, size=1000)\n",
    "\n",
    "# Create a histogram \n",
    "#data is x axis bins is num of bars\n",
    "plt.hist(data, bins=20, color='skyblue', edgecolor='black')\n",
    "\n",
    "# Add labels and title\n",
    "plt.xlabel('Value')\n",
    "plt.ylabel('Frequency')\n",
    "plt.title('Histogram of Random Data')\n",
    "\n",
    "# Show the plot\n",
    "plt.show()\n"
   ]
  },
  {
   "cell_type": "markdown",
   "metadata": {},
   "source": [
    "<span style='font-size:40px; color:green'>7 - Normal data distribution</span> </br>\n"
   ]
  },
  {
   "cell_type": "markdown",
   "metadata": {},
   "source": [
    "#### - create an array where the values are concentrated around a given value.\n",
    "\n",
    "#### - the normal data distribution, or the Gaussian data distribution, after the mathematician Carl Friedrich Gauss who came up with the formula of this data distribution."
   ]
  },
  {
   "cell_type": "code",
   "execution_count": 12,
   "metadata": {},
   "outputs": [
    {
     "data": {
      "image/png": "[encoded data removed]",
      "text/plain": [
       "<Figure size 640x480 with 1 Axes>"
      ]
     },
     "metadata": {},
     "output_type": "display_data"
    }
   ],
   "source": [
    "x = np.random.normal(5.0,1.0,100000)\n",
    "# 5.0 = mean , 1.0 = sd , 100 000 size\n",
    "plt.hist(x,100)\n",
    "#most vals are beyween 6 and 4 bcz the sd = 1\n",
    "plt.axvline(x=4, color='red', linestyle='--')\n",
    "plt.axvline(x=6, color='red', linestyle='--')\n",
    "\n",
    "plt.show()"
   ]
  },
  {
   "cell_type": "code",
   "execution_count": 13,
   "metadata": {},
   "outputs": [
    {
     "data": {
      "image/png": "[encoded data removed]",
      "text/plain": [
       "<Figure size 640x480 with 1 Axes>"
      ]
     },
     "metadata": {},
     "output_type": "display_data"
    }
   ],
   "source": [
    "#scatter\n",
    "x = [5,7,8,7,2,17,2,9,4,11,12,9,6]\n",
    "\n",
    "y = [99,86,87,88,111,86,103,87,94,78,77,85,86]\n",
    "plt.scatter(x,y)\n",
    "plt.xlabel('age of car')\n",
    "plt.ylabel('speed of car')\n",
    "plt.show()"
   ]
  },
  {
   "cell_type": "markdown",
   "metadata": {},
   "source": [
    "<span style='font-size:40px; color:green'>8 - Random data distribution</span> </br>\n"
   ]
  },
  {
   "cell_type": "code",
   "execution_count": 14,
   "metadata": {},
   "outputs": [
    {
     "data": {
      "image/png": "[encoded data removed]",
      "text/plain": [
       "<Figure size 640x480 with 1 Axes>"
      ]
     },
     "metadata": {},
     "output_type": "display_data"
    }
   ],
   "source": [
    "x = np.random.normal(5.0, 1.0, 1000)\n",
    "y = np.random.normal(10.0, 2.0, 1000)\n",
    "\n",
    "plt.scatter(x, y)\n",
    "#plt.yticks expect an array so i fucking gave him an array with range 0 to 17 excluded\n",
    "plt.yticks(np.arange(0,17,step=1))\n",
    "plt.show()\n",
    "\n",
    "#We can see that the dots are concentrated around the value 5 on the x-axis, and 10 on the y-axis."
   ]
  },
  {
   "cell_type": "markdown",
   "metadata": {},
   "source": [
    "<span style='color:green; font-size:40px'>9 - Linear regression</span>"
   ]
  },
  {
   "cell_type": "markdown",
   "metadata": {},
   "source": [
    "<ul>\n",
    "    <li>Python has methods for finding a relationship between data-points and to draw a line of linear regression. We will show you how to use these methods instead of going through the mathematic formula.\n",
    "    </li>\n",
    "    <li>In the example below, the x-axis represents age, and the y-axis represents speed. We have registered the age and speed of 13 cars as they were passing a tollbooth. Let us see if the data we collected could be used in a linear regression:\n",
    "    </li>\n",
    "</ul>"
   ]
  },
  {
   "cell_type": "code",
   "execution_count": 15,
   "metadata": {},
   "outputs": [
    {
     "data": {
      "image/png": "[encoded data removed]",
      "text/plain": [
       "<Figure size 640x480 with 1 Axes>"
      ]
     },
     "metadata": {},
     "output_type": "display_data"
    }
   ],
   "source": [
    "x = [5,7,8,7,2,17,2,9,4,11,12,9,6]\n",
    "y = [99,86,87,88,111,86,103,87,94,78,77,85,86]\n",
    "\n",
    "plt.scatter(x,y)\n",
    "plt.show()"
   ]
  },
  {
   "cell_type": "markdown",
   "metadata": {},
   "source": [
    "<span style='color:green; font-size:40px'>9.1 - Linear regression params</span>"
   ]
  },
  {
   "cell_type": "markdown",
   "metadata": {},
   "source": [
    "<ul>\n",
    "    <li><span style='color:#cb4335'>slope, intercept, r, p, std_err = stats.linregress(x, y)</span>\n",
    "    </li>\n",
    "    <li><span style='color:#cb4335'>slope</span> = la pente\n",
    "    </li>\n",
    "    <li>intercep = y when a (slope) =0\n",
    "    </li>\n",
    "    <li><span style='color:#cb4335'>r</span> is : correlation coefficient (Pearson's r) between x and y, indicating the strength and direction of the linear relationship between the variables. It ranges from -1 to 1, where:\n",
    "    <ul><li><span style='color:#cb4335'>1</span> indicates a perfect positive linear relationship, both x & y increases </li>\n",
    "    <li><span style='color:#cb4335'>-1</span> indicates a perfect negative linear relationship, y increses while x decreses </li>\n",
    "    <li><span style='color:#cb4335'>0</span> indicates no linear relationship </li>\n",
    "    </ul>\n",
    "    </li><span style='color:#cb4335'>p</span> \n",
    "    represents the probability of observing the data given that the null hypothesis is true. The null hypothesis typically states that there is no relationship between the independent variable(s) and the dependent variable\n",
    "        <ul>\n",
    "            <li>If the p-value is very small (typically less than 0.05 or 0.01), it suggests strong evidence against the null hypothesis. In other words, it indicates that there is a statistically significant relationship between the independent variable(s) and the dependent variable.</li>\n",
    "            <li>If the p-value is large (greater than 0.05 or 0.01), it suggests weak evidence against the null hypothesis. In this case, you may not have enough evidence to reject the null hypothesis, and it implies that there may not be a significant relationship between the independent variable(s) and the dependent variable.</li>\n",
    "            <li>Significance Level (α): This is the threshold used to determine whether the p-value is considered small enough to reject the null hypothesis. Commonly used significance levels include 0.05 (5%) and 0.01 (1%).\n",
    "            </li>\n",
    "        </ul>\n",
    "    <li><span style='color:#cb4335'>std_err :</span> The standard error of the estimated gradient of the regression line, which represents the average deviation of the observed values from the predicted values.\n",
    "    </li>\n",
    "</ul>"
   ]
  },
  {
   "cell_type": "markdown",
   "metadata": {},
   "source": [
    "- negative, positive and null slope </br>\n",
    "\n",
    "<img src=\"Slope.png\">"
   ]
  },
  {
   "cell_type": "markdown",
   "metadata": {},
   "source": [
    "<span style='color:green; font-size:40px'>9.2 - ploting the relation line</span>"
   ]
  },
  {
   "cell_type": "code",
   "execution_count": 16,
   "metadata": {},
   "outputs": [
    {
     "name": "stdout",
     "output_type": "stream",
     "text": [
      "1 and -1 mean perfect relation 0 is no relation r = -0.758591524376155\n"
     ]
    },
    {
     "data": {
      "image/png": "[encoded data removed]",
      "text/plain": [
       "<Figure size 640x480 with 1 Axes>"
      ]
     },
     "metadata": {},
     "output_type": "display_data"
    }
   ],
   "source": [
    "slope, intercept, r, p, std_err = stats.linregress(x, y)\n",
    "\n",
    "def myfunc(x):\n",
    "  return slope * x + intercept # y = a x + b\n",
    "\n",
    "mymodel = list(map(myfunc, x)) # converting map object to list\n",
    "\n",
    "#test the relation r\n",
    "print(f'1 and -1 mean perfect relation 0 is no relation r = {r}')\n",
    "\n",
    "plt.scatter(x,y)\n",
    "plt.plot(x,mymodel)\n",
    "plt.show()"
   ]
  },
  {
   "cell_type": "markdown",
   "metadata": {},
   "source": [
    "<span style='color:green; font-size:40px'>9.3 - Predict future values</span>"
   ]
  },
  {
   "cell_type": "code",
   "execution_count": 17,
   "metadata": {},
   "outputs": [
    {
     "name": "stdout",
     "output_type": "stream",
     "text": [
      "85.59308314937454\n",
      "68.08020603384843\n"
     ]
    }
   ],
   "source": [
    "speed = myfunc(10) #predicting speed of 10 years car\n",
    "speed2 = myfunc(20) #predicting speed of 20 years car\n",
    "print(speed)\n",
    "print(speed2)"
   ]
  },
  {
   "cell_type": "markdown",
   "metadata": {},
   "source": [
    "<img src=\"Screenshot 2024-04-14 002645.png\">"
   ]
  },
  {
   "cell_type": "markdown",
   "metadata": {},
   "source": [
    "<span style='color:green; font-size:40px'>9.4 - Bad fit ?</span>"
   ]
  },
  {
   "cell_type": "code",
   "execution_count": 18,
   "metadata": {},
   "outputs": [
    {
     "name": "stdout",
     "output_type": "stream",
     "text": [
      "here r is almost 0 r = 0.01331814154297491\n",
      "r = 0.013 indicates a very bad relationship, so this dataset is not suitable for linear regression.\n"
     ]
    },
    {
     "data": {
      "image/png": "[encoded data removed]",
      "text/plain": [
       "<Figure size 640x480 with 1 Axes>"
      ]
     },
     "metadata": {},
     "output_type": "display_data"
    }
   ],
   "source": [
    "x = [89,43,36,36,95,10,66,34,38,20,26,29,48,64,6,5,36,66,72,40]\n",
    "y = [21,46,3,35,67,95,53,72,58,10,26,34,90,33,38,20,56,2,47,15]\n",
    "\n",
    "slope, intercept, r, p, err_std = stats.linregress(x,y)\n",
    "def myfunc(x):\n",
    "    return slope * x + intercept\n",
    "\n",
    "mymodel = list(map(myfunc,x))\n",
    "print(f'here r is almost 0 r = {r}\\nr = 0.013 indicates a very bad relationship, so this dataset is not suitable for linear regression.') \n",
    "\n",
    "plt.scatter(x,y)\n",
    "plt.plot(x,mymodel)\n",
    "plt.show()"
   ]
  },
  {
   "cell_type": "markdown",
   "metadata": {},
   "source": [
    "<span style='color:green; font-size:40px'>10 - Polynomial regression </span>"
   ]
  },
  {
   "cell_type": "markdown",
   "metadata": {},
   "source": [
    "<img src=\"Polynomial regression.png\">"
   ]
  },
  {
   "cell_type": "markdown",
   "metadata": {},
   "source": [
    "<span style='color:green; font-size:40px'>10.1 - ploting the data points </span>"
   ]
  },
  {
   "cell_type": "code",
   "execution_count": 19,
   "metadata": {},
   "outputs": [
    {
     "data": {
      "image/png": "[encoded data removed]",
      "text/plain": [
       "<Figure size 640x480 with 1 Axes>"
      ]
     },
     "metadata": {},
     "output_type": "display_data"
    }
   ],
   "source": [
    "x = [1,2,3,5,6,7,8,9,10,12,13,14,15,16,18,19,21,22]\n",
    "y = [100,90,80,60,60,55,60,65,70,70,75,76,78,79,90,99,99,100]\n",
    "\n",
    "plt.scatter(x, y)\n",
    "plt.show() "
   ]
  },
  {
   "cell_type": "markdown",
   "metadata": {},
   "source": [
    "<span style='color:green; font-size:40px'>10.2 - numpy method for polynomial model </span>"
   ]
  },
  {
   "cell_type": "markdown",
   "metadata": {},
   "source": [
    "    numpy.polyfit(x, y, 3): This function fits a polynomial of degree 3 (a cubic polynomial) to the data points (x, y). It calculates the coefficients of the polynomial that best fits the data using the method of least squares.\n",
    "\n",
    "    numpy.poly1d(...): This function creates a one-dimensional polynomial class instance from the coefficients obtained from polyfit. It allows you to easily evaluate the polynomial at different points."
   ]
  },
  {
   "cell_type": "code",
   "execution_count": 20,
   "metadata": {},
   "outputs": [],
   "source": [
    "mymodel = np.poly1d(np.polyfit(x, y, 3))"
   ]
  },
  {
   "cell_type": "markdown",
   "metadata": {},
   "source": [
    "<span style='color:green; font-size:40px'>10.3 - ploting the relation line </span>"
   ]
  },
  {
   "cell_type": "code",
   "execution_count": 21,
   "metadata": {},
   "outputs": [],
   "source": [
    "myline = np.linspace(1, 22, 100) "
   ]
  },
  {
   "cell_type": "markdown",
   "metadata": {},
   "source": [
    "<span style='color:green; font-size:40px'>10.4 - scatter plot </span>"
   ]
  },
  {
   "cell_type": "code",
   "execution_count": 22,
   "metadata": {},
   "outputs": [
    {
     "data": {
      "image/png": "[encoded data removed]",
      "text/plain": [
       "<Figure size 640x480 with 1 Axes>"
      ]
     },
     "metadata": {},
     "output_type": "display_data"
    }
   ],
   "source": [
    "plt.scatter(x, y)\n",
    "plt.plot(myline, mymodel(myline))\n",
    "plt.show()"
   ]
  },
  {
   "cell_type": "markdown",
   "metadata": {},
   "source": [
    "<span style='color:green; font-size:40px'>10.5 - R-Squared </span>\n",
    "- The r-squared value ranges from 0 to 1, where 0 means no relationship, and 1 means 100% related.\n",
    "- Python and the Sklearn module will compute this value for you, all you have to do is feed it with the x and y arrays:\n",
    "- The result 0.94 shows that there is a very good relationship, and we can use polynomial regression in future predictions."
   ]
  },
  {
   "cell_type": "code",
   "execution_count": 23,
   "metadata": {},
   "outputs": [
    {
     "name": "stdout",
     "output_type": "stream",
     "text": [
      "0.9432150416451026\n"
     ]
    }
   ],
   "source": [
    "x = [1,2,3,5,6,7,8,9,10,12,13,14,15,16,18,19,21,22]\n",
    "y = [100,90,80,60,60,55,60,65,70,70,75,76,78,79,90,99,99,100]\n",
    "\n",
    "mymodel = np.poly1d(np.polyfit(x, y, 3))\n",
    "\n",
    "print(r2_score(y, mymodel(x))) "
   ]
  },
  {
   "cell_type": "markdown",
   "metadata": {},
   "source": [
    "<span style='color:green; font-size:40px'>10.6 - Predict future values </span>"
   ]
  },
  {
   "cell_type": "code",
   "execution_count": 24,
   "metadata": {},
   "outputs": [
    {
     "name": "stdout",
     "output_type": "stream",
     "text": [
      "88.87331269698001\n"
     ]
    }
   ],
   "source": [
    "speed = mymodel(17)\n",
    "print(speed) "
   ]
  },
  {
   "cell_type": "markdown",
   "metadata": {},
   "source": [
    "<img src=\"Polynomial regression_predict.png\">"
   ]
  },
  {
   "cell_type": "markdown",
   "metadata": {},
   "source": [
    "<span style='color:green; font-size:40px'>10.7 - Bad fit ?</span>"
   ]
  },
  {
   "cell_type": "code",
   "execution_count": 25,
   "metadata": {},
   "outputs": [
    {
     "data": {
      "image/png": "[encoded data removed]",
      "text/plain": [
       "<Figure size 640x480 with 1 Axes>"
      ]
     },
     "metadata": {},
     "output_type": "display_data"
    }
   ],
   "source": [
    "x = [89,43,36,36,95,10,66,34,38,20,26,29,48,64,6,5,36,66,72,40]\n",
    "y = [21,46,3,35,67,95,53,72,58,10,26,34,90,33,38,20,56,2,47,15]\n",
    "\n",
    "mymodel = np.poly1d(np.polyfit(x,y,3))\n",
    "\n",
    "myline = np.linspace(1,100,100)\n",
    "\n",
    "plt.scatter(x, y)\n",
    "plt.plot(myline, mymodel(myline))\n",
    "plt.show() \n"
   ]
  },
  {
   "cell_type": "code",
   "execution_count": 26,
   "metadata": {},
   "outputs": [
    {
     "name": "stdout",
     "output_type": "stream",
     "text": [
      "0.009952707566680652\n"
     ]
    }
   ],
   "source": [
    "mymodel = np.poly1d(np.polyfit(x, y, 3))\n",
    "\n",
    "print(r2_score(y, mymodel(x)))"
   ]
  },
  {
   "cell_type": "markdown",
   "metadata": {},
   "source": [
    "- The result: 0.00995 indicates a very bad relationship, and tells us that this data set is not suitable for polynomial regression."
   ]
  },
  {
   "cell_type": "markdown",
   "metadata": {},
   "source": [
    "<span style='color:green; font-size:40px'>11 - Multiple Regression </span>"
   ]
  },
  {
   "cell_type": "markdown",
   "metadata": {},
   "source": [
    " - Multiple regression is like linear regression, but with more than one independent value, meaning that we try to predict a value based on two or more variables."
   ]
  },
  {
   "cell_type": "markdown",
   "metadata": {},
   "source": [
    "<img src=\"Multiple Regression1.png\">"
   ]
  },
  {
   "cell_type": "markdown",
   "metadata": {},
   "source": [
    "- The Pandas module allows us to read csv files and return a DataFrame object."
   ]
  },
  {
   "cell_type": "code",
   "execution_count": 27,
   "metadata": {},
   "outputs": [],
   "source": [
    "df = pd.read_csv(\"cars_data.csv\")"
   ]
  },
  {
   "cell_type": "markdown",
   "metadata": {},
   "source": [
    "- Then make a list of the independent values and call this variable X.\n",
    "\n",
    "- Put the dependent values in a variable called y."
   ]
  },
  {
   "cell_type": "code",
   "execution_count": 28,
   "metadata": {},
   "outputs": [],
   "source": [
    "# so we have 2 independants vals Weight & Volume\n",
    "# that will help us predict the dependant val CO2\n",
    "\n",
    "X = df[['Weight', 'Volume']]\n",
    "y = df['CO2']\n",
    "\n",
    "# Tip: It is common to name the list of independent values with a upper case X,\n",
    "# and the list of dependent values with a lower case y."
   ]
  },
  {
   "cell_type": "markdown",
   "metadata": {},
   "source": [
    "- From the sklearn module we will use the LinearRegression() method to create a linear regression object.\n",
    "\n",
    "- This object has a method called fit() that takes the independent and dependent values as parameters and fills the regression object with data that describes the relationship:"
   ]
  },
  {
   "cell_type": "code",
   "execution_count": 29,
   "metadata": {},
   "outputs": [
    {
     "data": {
      "text/html": [
       "<style>#sk-container-id-1 {\n",
       "  /* Definition of color scheme common for light and dark mode */\n",
       "  --sklearn-color-text: black;\n",
       "  --sklearn-color-line: gray;\n",
       "  /* Definition of color scheme for unfitted estimators */\n",
       "  --sklearn-color-unfitted-level-0: #fff5e6;\n",
       "  --sklearn-color-unfitted-level-1: #f6e4d2;\n",
       "  --sklearn-color-unfitted-level-2: #ffe0b3;\n",
       "  --sklearn-color-unfitted-level-3: chocolate;\n",
       "  /* Definition of color scheme for fitted estimators */\n",
       "  --sklearn-color-fitted-level-0: #f0f8ff;\n",
       "  --sklearn-color-fitted-level-1: #d4ebff;\n",
       "  --sklearn-color-fitted-level-2: #b3dbfd;\n",
       "  --sklearn-color-fitted-level-3: cornflowerblue;\n",
       "\n",
       "  /* Specific color for light theme */\n",
       "  --sklearn-color-text-on-default-background: var(--sg-text-color, var(--theme-code-foreground, var(--jp-content-font-color1, black)));\n",
       "  --sklearn-color-background: var(--sg-background-color, var(--theme-background, var(--jp-layout-color0, white)));\n",
       "  --sklearn-color-border-box: var(--sg-text-color, var(--theme-code-foreground, var(--jp-content-font-color1, black)));\n",
       "  --sklearn-color-icon: #696969;\n",
       "\n",
       "  @media (prefers-color-scheme: dark) {\n",
       "    /* Redefinition of color scheme for dark theme */\n",
       "    --sklearn-color-text-on-default-background: var(--sg-text-color, var(--theme-code-foreground, var(--jp-content-font-color1, white)));\n",
       "    --sklearn-color-background: var(--sg-background-color, var(--theme-background, var(--jp-layout-color0, #111)));\n",
       "    --sklearn-color-border-box: var(--sg-text-color, var(--theme-code-foreground, var(--jp-content-font-color1, white)));\n",
       "    --sklearn-color-icon: #878787;\n",
       "  }\n",
       "}\n",
       "\n",
       "#sk-container-id-1 {\n",
       "  color: var(--sklearn-color-text);\n",
       "}\n",
       "\n",
       "#sk-container-id-1 pre {\n",
       "  padding: 0;\n",
       "}\n",
       "\n",
       "#sk-container-id-1 input.sk-hidden--visually {\n",
       "  border: 0;\n",
       "  clip: rect(1px 1px 1px 1px);\n",
       "  clip: rect(1px, 1px, 1px, 1px);\n",
       "  height: 1px;\n",
       "  margin: -1px;\n",
       "  overflow: hidden;\n",
       "  padding: 0;\n",
       "  position: absolute;\n",
       "  width: 1px;\n",
       "}\n",
       "\n",
       "#sk-container-id-1 div.sk-dashed-wrapped {\n",
       "  border: 1px dashed var(--sklearn-color-line);\n",
       "  margin: 0 0.4em 0.5em 0.4em;\n",
       "  box-sizing: border-box;\n",
       "  padding-bottom: 0.4em;\n",
       "  background-color: var(--sklearn-color-background);\n",
       "}\n",
       "\n",
       "#sk-container-id-1 div.sk-container {\n",
       "  /* jupyter's `normalize.less` sets `[hidden] { display: none; }`\n",
       "     but bootstrap.min.css set `[hidden] { display: none !important; }`\n",
       "     so we also need the `!important` here to be able to override the\n",
       "     default hidden behavior on the sphinx rendered scikit-learn.org.\n",
       "     See: https://github.com/scikit-learn/scikit-learn/issues/21755 */\n",
       "  display: inline-block !important;\n",
       "  position: relative;\n",
       "}\n",
       "\n",
       "#sk-container-id-1 div.sk-text-repr-fallback {\n",
       "  display: none;\n",
       "}\n",
       "\n",
       "div.sk-parallel-item,\n",
       "div.sk-serial,\n",
       "div.sk-item {\n",
       "  /* draw centered vertical line to link estimators */\n",
       "  background-image: linear-gradient(var(--sklearn-color-text-on-default-background), var(--sklearn-color-text-on-default-background));\n",
       "  background-size: 2px 100%;\n",
       "  background-repeat: no-repeat;\n",
       "  background-position: center center;\n",
       "}\n",
       "\n",
       "/* Parallel-specific style estimator block */\n",
       "\n",
       "#sk-container-id-1 div.sk-parallel-item::after {\n",
       "  content: \"\";\n",
       "  width: 100%;\n",
       "  border-bottom: 2px solid var(--sklearn-color-text-on-default-background);\n",
       "  flex-grow: 1;\n",
       "}\n",
       "\n",
       "#sk-container-id-1 div.sk-parallel {\n",
       "  display: flex;\n",
       "  align-items: stretch;\n",
       "  justify-content: center;\n",
       "  background-color: var(--sklearn-color-background);\n",
       "  position: relative;\n",
       "}\n",
       "\n",
       "#sk-container-id-1 div.sk-parallel-item {\n",
       "  display: flex;\n",
       "  flex-direction: column;\n",
       "}\n",
       "\n",
       "#sk-container-id-1 div.sk-parallel-item:first-child::after {\n",
       "  align-self: flex-end;\n",
       "  width: 50%;\n",
       "}\n",
       "\n",
       "#sk-container-id-1 div.sk-parallel-item:last-child::after {\n",
       "  align-self: flex-start;\n",
       "  width: 50%;\n",
       "}\n",
       "\n",
       "#sk-container-id-1 div.sk-parallel-item:only-child::after {\n",
       "  width: 0;\n",
       "}\n",
       "\n",
       "/* Serial-specific style estimator block */\n",
       "\n",
       "#sk-container-id-1 div.sk-serial {\n",
       "  display: flex;\n",
       "  flex-direction: column;\n",
       "  align-items: center;\n",
       "  background-color: var(--sklearn-color-background);\n",
       "  padding-right: 1em;\n",
       "  padding-left: 1em;\n",
       "}\n",
       "\n",
       "\n",
       "/* Toggleable style: style used for estimator/Pipeline/ColumnTransformer box that is\n",
       "clickable and can be expanded/collapsed.\n",
       "- Pipeline and ColumnTransformer use this feature and define the default style\n",
       "- Estimators will overwrite some part of the style using the `sk-estimator` class\n",
       "*/\n",
       "\n",
       "/* Pipeline and ColumnTransformer style (default) */\n",
       "\n",
       "#sk-container-id-1 div.sk-toggleable {\n",
       "  /* Default theme specific background. It is overwritten whether we have a\n",
       "  specific estimator or a Pipeline/ColumnTransformer */\n",
       "  background-color: var(--sklearn-color-background);\n",
       "}\n",
       "\n",
       "/* Toggleable label */\n",
       "#sk-container-id-1 label.sk-toggleable__label {\n",
       "  cursor: pointer;\n",
       "  display: block;\n",
       "  width: 100%;\n",
       "  margin-bottom: 0;\n",
       "  padding: 0.5em;\n",
       "  box-sizing: border-box;\n",
       "  text-align: center;\n",
       "}\n",
       "\n",
       "#sk-container-id-1 label.sk-toggleable__label-arrow:before {\n",
       "  /* Arrow on the left of the label */\n",
       "  content: \"▸\";\n",
       "  float: left;\n",
       "  margin-right: 0.25em;\n",
       "  color: var(--sklearn-color-icon);\n",
       "}\n",
       "\n",
       "#sk-container-id-1 label.sk-toggleable__label-arrow:hover:before {\n",
       "  color: var(--sklearn-color-text);\n",
       "}\n",
       "\n",
       "/* Toggleable content - dropdown */\n",
       "\n",
       "#sk-container-id-1 div.sk-toggleable__content {\n",
       "  max-height: 0;\n",
       "  max-width: 0;\n",
       "  overflow: hidden;\n",
       "  text-align: left;\n",
       "  /* unfitted */\n",
       "  background-color: var(--sklearn-color-unfitted-level-0);\n",
       "}\n",
       "\n",
       "#sk-container-id-1 div.sk-toggleable__content.fitted {\n",
       "  /* fitted */\n",
       "  background-color: var(--sklearn-color-fitted-level-0);\n",
       "}\n",
       "\n",
       "#sk-container-id-1 div.sk-toggleable__content pre {\n",
       "  margin: 0.2em;\n",
       "  border-radius: 0.25em;\n",
       "  color: var(--sklearn-color-text);\n",
       "  /* unfitted */\n",
       "  background-color: var(--sklearn-color-unfitted-level-0);\n",
       "}\n",
       "\n",
       "#sk-container-id-1 div.sk-toggleable__content.fitted pre {\n",
       "  /* unfitted */\n",
       "  background-color: var(--sklearn-color-fitted-level-0);\n",
       "}\n",
       "\n",
       "#sk-container-id-1 input.sk-toggleable__control:checked~div.sk-toggleable__content {\n",
       "  /* Expand drop-down */\n",
       "  max-height: 200px;\n",
       "  max-width: 100%;\n",
       "  overflow: auto;\n",
       "}\n",
       "\n",
       "#sk-container-id-1 input.sk-toggleable__control:checked~label.sk-toggleable__label-arrow:before {\n",
       "  content: \"▾\";\n",
       "}\n",
       "\n",
       "/* Pipeline/ColumnTransformer-specific style */\n",
       "\n",
       "#sk-container-id-1 div.sk-label input.sk-toggleable__control:checked~label.sk-toggleable__label {\n",
       "  color: var(--sklearn-color-text);\n",
       "  background-color: var(--sklearn-color-unfitted-level-2);\n",
       "}\n",
       "\n",
       "#sk-container-id-1 div.sk-label.fitted input.sk-toggleable__control:checked~label.sk-toggleable__label {\n",
       "  background-color: var(--sklearn-color-fitted-level-2);\n",
       "}\n",
       "\n",
       "/* Estimator-specific style */\n",
       "\n",
       "/* Colorize estimator box */\n",
       "#sk-container-id-1 div.sk-estimator input.sk-toggleable__control:checked~label.sk-toggleable__label {\n",
       "  /* unfitted */\n",
       "  background-color: var(--sklearn-color-unfitted-level-2);\n",
       "}\n",
       "\n",
       "#sk-container-id-1 div.sk-estimator.fitted input.sk-toggleable__control:checked~label.sk-toggleable__label {\n",
       "  /* fitted */\n",
       "  background-color: var(--sklearn-color-fitted-level-2);\n",
       "}\n",
       "\n",
       "#sk-container-id-1 div.sk-label label.sk-toggleable__label,\n",
       "#sk-container-id-1 div.sk-label label {\n",
       "  /* The background is the default theme color */\n",
       "  color: var(--sklearn-color-text-on-default-background);\n",
       "}\n",
       "\n",
       "/* On hover, darken the color of the background */\n",
       "#sk-container-id-1 div.sk-label:hover label.sk-toggleable__label {\n",
       "  color: var(--sklearn-color-text);\n",
       "  background-color: var(--sklearn-color-unfitted-level-2);\n",
       "}\n",
       "\n",
       "/* Label box, darken color on hover, fitted */\n",
       "#sk-container-id-1 div.sk-label.fitted:hover label.sk-toggleable__label.fitted {\n",
       "  color: var(--sklearn-color-text);\n",
       "  background-color: var(--sklearn-color-fitted-level-2);\n",
       "}\n",
       "\n",
       "/* Estimator label */\n",
       "\n",
       "#sk-container-id-1 div.sk-label label {\n",
       "  font-family: monospace;\n",
       "  font-weight: bold;\n",
       "  display: inline-block;\n",
       "  line-height: 1.2em;\n",
       "}\n",
       "\n",
       "#sk-container-id-1 div.sk-label-container {\n",
       "  text-align: center;\n",
       "}\n",
       "\n",
       "/* Estimator-specific */\n",
       "#sk-container-id-1 div.sk-estimator {\n",
       "  font-family: monospace;\n",
       "  border: 1px dotted var(--sklearn-color-border-box);\n",
       "  border-radius: 0.25em;\n",
       "  box-sizing: border-box;\n",
       "  margin-bottom: 0.5em;\n",
       "  /* unfitted */\n",
       "  background-color: var(--sklearn-color-unfitted-level-0);\n",
       "}\n",
       "\n",
       "#sk-container-id-1 div.sk-estimator.fitted {\n",
       "  /* fitted */\n",
       "  background-color: var(--sklearn-color-fitted-level-0);\n",
       "}\n",
       "\n",
       "/* on hover */\n",
       "#sk-container-id-1 div.sk-estimator:hover {\n",
       "  /* unfitted */\n",
       "  background-color: var(--sklearn-color-unfitted-level-2);\n",
       "}\n",
       "\n",
       "#sk-container-id-1 div.sk-estimator.fitted:hover {\n",
       "  /* fitted */\n",
       "  background-color: var(--sklearn-color-fitted-level-2);\n",
       "}\n",
       "\n",
       "/* Specification for estimator info (e.g. \"i\" and \"?\") */\n",
       "\n",
       "/* Common style for \"i\" and \"?\" */\n",
       "\n",
       ".sk-estimator-doc-link,\n",
       "a:link.sk-estimator-doc-link,\n",
       "a:visited.sk-estimator-doc-link {\n",
       "  float: right;\n",
       "  font-size: smaller;\n",
       "  line-height: 1em;\n",
       "  font-family: monospace;\n",
       "  background-color: var(--sklearn-color-background);\n",
       "  border-radius: 1em;\n",
       "  height: 1em;\n",
       "  width: 1em;\n",
       "  text-decoration: none !important;\n",
       "  margin-left: 1ex;\n",
       "  /* unfitted */\n",
       "  border: var(--sklearn-color-unfitted-level-1) 1pt solid;\n",
       "  color: var(--sklearn-color-unfitted-level-1);\n",
       "}\n",
       "\n",
       ".sk-estimator-doc-link.fitted,\n",
       "a:link.sk-estimator-doc-link.fitted,\n",
       "a:visited.sk-estimator-doc-link.fitted {\n",
       "  /* fitted */\n",
       "  border: var(--sklearn-color-fitted-level-1) 1pt solid;\n",
       "  color: var(--sklearn-color-fitted-level-1);\n",
       "}\n",
       "\n",
       "/* On hover */\n",
       "div.sk-estimator:hover .sk-estimator-doc-link:hover,\n",
       ".sk-estimator-doc-link:hover,\n",
       "div.sk-label-container:hover .sk-estimator-doc-link:hover,\n",
       ".sk-estimator-doc-link:hover {\n",
       "  /* unfitted */\n",
       "  background-color: var(--sklearn-color-unfitted-level-3);\n",
       "  color: var(--sklearn-color-background);\n",
       "  text-decoration: none;\n",
       "}\n",
       "\n",
       "div.sk-estimator.fitted:hover .sk-estimator-doc-link.fitted:hover,\n",
       ".sk-estimator-doc-link.fitted:hover,\n",
       "div.sk-label-container:hover .sk-estimator-doc-link.fitted:hover,\n",
       ".sk-estimator-doc-link.fitted:hover {\n",
       "  /* fitted */\n",
       "  background-color: var(--sklearn-color-fitted-level-3);\n",
       "  color: var(--sklearn-color-background);\n",
       "  text-decoration: none;\n",
       "}\n",
       "\n",
       "/* Span, style for the box shown on hovering the info icon */\n",
       ".sk-estimator-doc-link span {\n",
       "  display: none;\n",
       "  z-index: 9999;\n",
       "  position: relative;\n",
       "  font-weight: normal;\n",
       "  right: .2ex;\n",
       "  padding: .5ex;\n",
       "  margin: .5ex;\n",
       "  width: min-content;\n",
       "  min-width: 20ex;\n",
       "  max-width: 50ex;\n",
       "  color: var(--sklearn-color-text);\n",
       "  box-shadow: 2pt 2pt 4pt #999;\n",
       "  /* unfitted */\n",
       "  background: var(--sklearn-color-unfitted-level-0);\n",
       "  border: .5pt solid var(--sklearn-color-unfitted-level-3);\n",
       "}\n",
       "\n",
       ".sk-estimator-doc-link.fitted span {\n",
       "  /* fitted */\n",
       "  background: var(--sklearn-color-fitted-level-0);\n",
       "  border: var(--sklearn-color-fitted-level-3);\n",
       "}\n",
       "\n",
       ".sk-estimator-doc-link:hover span {\n",
       "  display: block;\n",
       "}\n",
       "\n",
       "/* \"?\"-specific style due to the `<a>` HTML tag */\n",
       "\n",
       "#sk-container-id-1 a.estimator_doc_link {\n",
       "  float: right;\n",
       "  font-size: 1rem;\n",
       "  line-height: 1em;\n",
       "  font-family: monospace;\n",
       "  background-color: var(--sklearn-color-background);\n",
       "  border-radius: 1rem;\n",
       "  height: 1rem;\n",
       "  width: 1rem;\n",
       "  text-decoration: none;\n",
       "  /* unfitted */\n",
       "  color: var(--sklearn-color-unfitted-level-1);\n",
       "  border: var(--sklearn-color-unfitted-level-1) 1pt solid;\n",
       "}\n",
       "\n",
       "#sk-container-id-1 a.estimator_doc_link.fitted {\n",
       "  /* fitted */\n",
       "  border: var(--sklearn-color-fitted-level-1) 1pt solid;\n",
       "  color: var(--sklearn-color-fitted-level-1);\n",
       "}\n",
       "\n",
       "/* On hover */\n",
       "#sk-container-id-1 a.estimator_doc_link:hover {\n",
       "  /* unfitted */\n",
       "  background-color: var(--sklearn-color-unfitted-level-3);\n",
       "  color: var(--sklearn-color-background);\n",
       "  text-decoration: none;\n",
       "}\n",
       "\n",
       "#sk-container-id-1 a.estimator_doc_link.fitted:hover {\n",
       "  /* fitted */\n",
       "  background-color: var(--sklearn-color-fitted-level-3);\n",
       "}\n",
       "</style><div id=\"sk-container-id-1\" class=\"sk-top-container\"><div class=\"sk-text-repr-fallback\"><pre>LinearRegression()</pre><b>In a Jupyter environment, please rerun this cell to show the HTML representation or trust the notebook. <br />On GitHub, the HTML representation is unable to render, please try loading this page with nbviewer.org.</b></div><div class=\"sk-container\" hidden><div class=\"sk-item\"><div class=\"sk-estimator fitted sk-toggleable\"><input class=\"sk-toggleable__control sk-hidden--visually\" id=\"sk-estimator-id-1\" type=\"checkbox\" checked><label for=\"sk-estimator-id-1\" class=\"sk-toggleable__label fitted sk-toggleable__label-arrow fitted\">&nbsp;&nbsp;LinearRegression<a class=\"sk-estimator-doc-link fitted\" rel=\"noreferrer\" target=\"_blank\" href=\"https://scikit-learn.org/1.4/modules/generated/sklearn.linear_model.LinearRegression.html\">?<span>Documentation for LinearRegression</span></a><span class=\"sk-estimator-doc-link fitted\">i<span>Fitted</span></span></label><div class=\"sk-toggleable__content fitted\"><pre>LinearRegression()</pre></div> </div></div></div></div>"
      ],
      "text/plain": [
       "LinearRegression()"
      ]
     },
     "execution_count": 29,
     "metadata": {},
     "output_type": "execute_result"
    }
   ],
   "source": [
    "X.columns = ['Weight', 'Volume']\n",
    "regr = linear_model.LinearRegression()\n",
    "regr.fit(X, y)"
   ]
  },
  {
   "cell_type": "markdown",
   "metadata": {},
   "source": [
    "- Now we have a regression object that are ready to predict CO2 values based on a car's weight and volume:"
   ]
  },
  {
   "cell_type": "code",
   "execution_count": 30,
   "metadata": {},
   "outputs": [
    {
     "name": "stdout",
     "output_type": "stream",
     "text": [
      "[107.2087328]\n"
     ]
    },
    {
     "name": "stderr",
     "output_type": "stream",
     "text": [
      "c:\\Program Files\\Python312\\Lib\\site-packages\\sklearn\\base.py:493: UserWarning: X does not have valid feature names, but LinearRegression was fitted with feature names\n",
      "  warnings.warn(\n"
     ]
    }
   ],
   "source": [
    "#predict the CO2 emission of a car where the weight is 2300kg, and the volume is 1300cm3:\n",
    "predictedCO2 = regr.predict([[2300, 1300]])\n",
    "print(predictedCO2)"
   ]
  },
  {
   "cell_type": "code",
   "execution_count": 31,
   "metadata": {},
   "outputs": [
    {
     "name": "stdout",
     "output_type": "stream",
     "text": [
      "[107.2087328]\n"
     ]
    }
   ],
   "source": [
    "# Read the dataset\n",
    "df = pd.read_csv(\"cars_data.csv\")\n",
    "\n",
    "# Define features and target variable\n",
    "X = df[['Weight', 'Volume']].values  # Convert to numpy array\n",
    "y = df['CO2'].values  # Convert to numpy array\n",
    "\n",
    "# Instantiate the linear regression model\n",
    "regr = LinearRegression()\n",
    "\n",
    "# Fit the model\n",
    "regr.fit(X, y)\n",
    "\n",
    "# Predict the CO2 emission of a car where the weight is 2300kg, and the volume is 1300cm3\n",
    "predictedCO2 = regr.predict([[2300, 1300]])\n",
    "\n",
    "print(predictedCO2)\n"
   ]
  },
  {
   "cell_type": "markdown",
   "metadata": {},
   "source": [
    "- we got the correct prediction any way, to get red of the warning, we use a numpy array instead of pandas as scklearn expect the data set to explicitly give features names = col names\n",
    "\n",
    "\n",
    "the error : c:\\Program Files\\Python312\\Lib\\site-packages\\sklearn\\base.py:493: UserWarning: X does not have valid feature names, but LinearRegression was fitted with feature names\n",
    "  warnings.warn("
   ]
  },
  {
   "cell_type": "markdown",
   "metadata": {},
   "source": [
    "- The warning message you were encountering, X does not have valid feature names, but LinearRegression was fitted with feature names, indicates that scikit-learn expected the feature names to be present in the input data. However, in your previous code, you were passing a DataFrame directly to the fit() method of the linear regression model.\n",
    "\n",
    "- The issue arises because scikit-learn's linear regression model internally uses feature names for various purposes, such as printing coefficients or interpreting results. When you pass a DataFrame directly, scikit-learn cannot extract the feature names because it expects a numpy array.\n",
    "\n",
    "- By converting the DataFrame to a numpy array using the values attribute, you provided a data structure that scikit-learn can handle directly. This resolved the warning message and allowed the linear regression model to fit the data successfully."
   ]
  },
  {
   "cell_type": "markdown",
   "metadata": {},
   "source": [
    "<span style='color:green; font-size:40px'>11.1 - Coefficient </span>"
   ]
  },
  {
   "cell_type": "markdown",
   "metadata": {},
   "source": [
    "- Example: if x is a variable, then 2x is x two times. x is the unknown variable, and the number 2 is the coefficient."
   ]
  },
  {
   "cell_type": "markdown",
   "metadata": {},
   "source": [
    "- In this case, we can ask for the coefficient value of weight against CO2, and for volume against CO2. The answer(s) we get tells us what would happen if we increase, or decrease, one of the independent values."
   ]
  },
  {
   "cell_type": "code",
   "execution_count": 32,
   "metadata": {},
   "outputs": [
    {
     "name": "stdout",
     "output_type": "stream",
     "text": [
      "[0.00755095 0.00780526]\n"
     ]
    }
   ],
   "source": [
    "print(regr.coef_)\n",
    "#earlier we made : df = weihgt , volume\n",
    "#so coeff 1 is for weight , and coeff 2 is for volume"
   ]
  },
  {
   "cell_type": "markdown",
   "metadata": {},
   "source": [
    "- The result array represents the coefficient values of weight and volume.\n",
    "\n",
    "Weight: 0.00755095\n",
    "Volume: 0.00780526\n",
    "\n",
    "- These values tell us that if the weight increase by 1kg, the CO2 emission increases by 0.00755095g.\n",
    "\n",
    "And if the engine size (Volume) increases by 1 cm3, the CO2 emission increases by 0.00780526 g.\n",
    "\n",
    "- I think that is a fair guess, but let test it!\n",
    "\n",
    "- We have already predicted that if a car with a 1300cm3 engine weighs 2300kg, the CO2 emission will be approximately 107g.\n",
    "\n",
    "- What if we increase the weight with 1000kg?"
   ]
  },
  {
   "cell_type": "code",
   "execution_count": 33,
   "metadata": {},
   "outputs": [
    {
     "name": "stdout",
     "output_type": "stream",
     "text": [
      "[114.75968007]\n"
     ]
    }
   ],
   "source": [
    "predictedCO2 = regr.predict([[3300, 1300]])\n",
    "\n",
    "print(predictedCO2) "
   ]
  },
  {
   "cell_type": "markdown",
   "metadata": {},
   "source": [
    "-  We have predicted that a car with 1.3 liter engine, and a weight of 3300 kg, will release approximately 115 grams of CO2 for every kilometer it drives.\n",
    "\n",
    "- Which shows that the coefficient of 0.00755095 is correct:\n",
    "\n",
    "- 107.2087328 + (1000 * 0.00755095) = 114.75968"
   ]
  },
  {
   "cell_type": "markdown",
   "metadata": {},
   "source": [
    "<span style='color:green; font-size:40px'>12 - Scale </span>"
   ]
  },
  {
   "cell_type": "markdown",
   "metadata": {},
   "source": [
    "- When your data has different values, and even different measurement units, it can be difficult to compare them. What is kilograms compared to meters? Or altitude compared to time?\n",
    "\n",
    "- The answer to this problem is scaling. We can scale data into new values that are easier to compare.\n",
    "\n",
    "- but this time the volume column contains values in liters instead of cm3 (1.0 instead of 1000)."
   ]
  },
  {
   "cell_type": "markdown",
   "metadata": {},
   "source": [
    "<span style='color:green; font-size:40px'>12.1 - Standardization </span>"
   ]
  },
  {
   "cell_type": "markdown",
   "metadata": {},
   "source": [
    "- It can be difficult to compare the volume 1.0 with the weight 790, but if we scale them both into comparable values, we can easily see how much one value is compared to the other.\n",
    "\n",
    "- There are different methods for scaling data, in this tutorial we will use a method called standardization.\n",
    "\n",
    "- The standardization method uses this formula:\n",
    "\n",
    "- <span style=\"color: #e74c3c \"> z = (x - u) / s </span>"
   ]
  },
  {
   "cell_type": "markdown",
   "metadata": {},
   "source": [
    "- <span style=\"color: #e74c3c \">z </span> is the new value\n",
    "- <span style=\"color: #e74c3c \">x </span> is the original value\n",
    "- <span style=\"color: #e74c3c \">u </span> is the mean\n",
    "- <span style=\"color: #e74c3c \">s </span> is the standard deviation\n"
   ]
  },
  {
   "cell_type": "code",
   "execution_count": 34,
   "metadata": {},
   "outputs": [
    {
     "name": "stdout",
     "output_type": "stream",
     "text": [
      "the mean for feature Weight is : 1292.2777777777778\n",
      "the standard deviation for feature Weight is : 238.73737443185826\n"
     ]
    }
   ],
   "source": [
    "df = pd.read_csv(\"cars_data_standardization.csv\")\n",
    "u = np.mean(df[\"Weight\"])\n",
    "s = np.std(df[\"Weight\"])\n",
    "print(f\"the mean for feature Weight is : {u}\\nthe standard deviation for feature Weight is : {s}\")"
   ]
  },
  {
   "cell_type": "markdown",
   "metadata": {},
   "source": [
    "- If you take the weight column from the data set above, the first value is 790, and the scaled value will be:\n",
    "- <span style=\"color: #e74c3c \">(790 - 1292.23) / 238.74 = -2.1</span>"
   ]
  },
  {
   "cell_type": "code",
   "execution_count": 35,
   "metadata": {},
   "outputs": [
    {
     "name": "stdout",
     "output_type": "stream",
     "text": [
      "the mean for feature Weight is : 1.6111111111111112\n",
      "the standard deviation for feature Weight is : 0.3835345687576268\n"
     ]
    }
   ],
   "source": [
    "u_vol = np.mean(df[\"Volume\"])\n",
    "s_vol = np.std(df[\"Volume\"])\n",
    "print(f\"the mean for feature Weight is : {u_vol}\\nthe standard deviation for feature Weight is : {s_vol}\")"
   ]
  },
  {
   "cell_type": "markdown",
   "metadata": {},
   "source": [
    "- If you take the volume column from the data set above, the first value is 1.0, and the scaled value will be:\n",
    "\n",
    "- <span style=\"color: #e74c3c \">(1.0 - 1.61) / 0.38 = -1.59</span>"
   ]
  },
  {
   "cell_type": "markdown",
   "metadata": {},
   "source": [
    "- Now you can compare -2.1 with -1.59 instead of comparing 790 with 1.0."
   ]
  },
  {
   "cell_type": "markdown",
   "metadata": {},
   "source": [
    "- You do not have to do this manually, the Python sklearn module has a method called StandardScaler() which returns a Scaler object with methods for transforming data sets."
   ]
  },
  {
   "cell_type": "code",
   "execution_count": 36,
   "metadata": {},
   "outputs": [
    {
     "name": "stdout",
     "output_type": "stream",
     "text": [
      "[[-2.10389253 -1.59336644]\n",
      " [-0.55407235 -1.07190106]\n",
      " [-1.52166278 -1.59336644]\n",
      " [-1.78973979 -1.85409913]\n",
      " [-0.63784641 -0.28970299]\n",
      " [-1.52166278 -1.59336644]\n",
      " [-0.76769621 -0.55043568]\n",
      " [ 0.3046118  -0.28970299]\n",
      " [-0.7551301  -0.28970299]\n",
      " [-0.59595938 -0.0289703 ]\n",
      " [-1.30803892 -1.33263375]\n",
      " [-1.26615189 -0.81116837]\n",
      " [-0.7551301  -1.59336644]\n",
      " [-0.16871166 -0.0289703 ]\n",
      " [ 0.14125238 -0.0289703 ]\n",
      " [ 0.15800719 -0.0289703 ]\n",
      " [ 0.3046118  -0.0289703 ]\n",
      " [-0.05142797  1.53542584]\n",
      " [-0.72580918 -0.0289703 ]\n",
      " [ 0.14962979  1.01396046]\n",
      " [ 1.2219378  -0.0289703 ]\n",
      " [ 0.5685001   1.01396046]\n",
      " [ 0.3046118   1.27469315]\n",
      " [ 0.51404696 -0.0289703 ]\n",
      " [ 0.51404696  1.01396046]\n",
      " [ 0.72348212 -0.28970299]\n",
      " [ 0.8281997   1.01396046]\n",
      " [ 1.81254495  1.01396046]\n",
      " [ 0.96642691 -0.0289703 ]\n",
      " [ 1.72877089  1.01396046]\n",
      " [ 1.30990057  1.27469315]\n",
      " [ 1.90050772  1.01396046]\n",
      " [-0.23991961 -0.0289703 ]\n",
      " [ 0.40932938 -0.0289703 ]\n",
      " [ 0.47215993 -0.0289703 ]\n",
      " [ 0.4302729   2.31762392]]\n"
     ]
    }
   ],
   "source": [
    "scale = StandardScaler()\n",
    "X = df[['Weight', 'Volume']]\n",
    "scaledX = scale.fit_transform(X)\n",
    "print(scaledX) "
   ]
  },
  {
   "cell_type": "markdown",
   "metadata": {},
   "source": [
    "- Replacing the old vals with the new Scaled values"
   ]
  },
  {
   "cell_type": "code",
   "execution_count": 37,
   "metadata": {},
   "outputs": [
    {
     "data": {
      "text/html": [
       "<div>\n",
       "<style scoped>\n",
       "    .dataframe tbody tr th:only-of-type {\n",
       "        vertical-align: middle;\n",
       "    }\n",
       "\n",
       "    .dataframe tbody tr th {\n",
       "        vertical-align: top;\n",
       "    }\n",
       "\n",
       "    .dataframe thead th {\n",
       "        text-align: right;\n",
       "    }\n",
       "</style>\n",
       "<table border=\"1\" class=\"dataframe\">\n",
       "  <thead>\n",
       "    <tr style=\"text-align: right;\">\n",
       "      <th></th>\n",
       "      <th>Car</th>\n",
       "      <th>Model</th>\n",
       "      <th>Volume</th>\n",
       "      <th>Weight</th>\n",
       "      <th>CO2</th>\n",
       "    </tr>\n",
       "  </thead>\n",
       "  <tbody>\n",
       "    <tr>\n",
       "      <th>0</th>\n",
       "      <td>Toyoty</td>\n",
       "      <td>Aygo</td>\n",
       "      <td>-1.593366</td>\n",
       "      <td>-2.103893</td>\n",
       "      <td>99</td>\n",
       "    </tr>\n",
       "    <tr>\n",
       "      <th>1</th>\n",
       "      <td>Mitsubishi</td>\n",
       "      <td>Space Star</td>\n",
       "      <td>-1.071901</td>\n",
       "      <td>-0.554072</td>\n",
       "      <td>95</td>\n",
       "    </tr>\n",
       "    <tr>\n",
       "      <th>2</th>\n",
       "      <td>Skoda</td>\n",
       "      <td>Citigo</td>\n",
       "      <td>-1.593366</td>\n",
       "      <td>-1.521663</td>\n",
       "      <td>95</td>\n",
       "    </tr>\n",
       "    <tr>\n",
       "      <th>3</th>\n",
       "      <td>Fiat</td>\n",
       "      <td>500</td>\n",
       "      <td>-1.854099</td>\n",
       "      <td>-1.789740</td>\n",
       "      <td>90</td>\n",
       "    </tr>\n",
       "    <tr>\n",
       "      <th>4</th>\n",
       "      <td>Mini</td>\n",
       "      <td>Cooper</td>\n",
       "      <td>-0.289703</td>\n",
       "      <td>-0.637846</td>\n",
       "      <td>105</td>\n",
       "    </tr>\n",
       "  </tbody>\n",
       "</table>\n",
       "</div>"
      ],
      "text/plain": [
       "          Car       Model    Volume    Weight  CO2\n",
       "0      Toyoty        Aygo -1.593366 -2.103893   99\n",
       "1  Mitsubishi  Space Star -1.071901 -0.554072   95\n",
       "2       Skoda      Citigo -1.593366 -1.521663   95\n",
       "3        Fiat         500 -1.854099 -1.789740   90\n",
       "4        Mini      Cooper -0.289703 -0.637846  105"
      ]
     },
     "execution_count": 37,
     "metadata": {},
     "output_type": "execute_result"
    }
   ],
   "source": [
    "df[[\"Weight\",\"Volume\"]] = scaledX\n",
    "df.head()"
   ]
  },
  {
   "cell_type": "markdown",
   "metadata": {},
   "source": [
    "- Result:\n",
    "\n",
    "- Note that the first two values are -2.1 and -1.59, which corresponds to our calculations: "
   ]
  },
  {
   "cell_type": "markdown",
   "metadata": {},
   "source": [
    "<span style='color:green; font-size:40px'>12.2 - Predict CO2 Values </span>"
   ]
  },
  {
   "cell_type": "markdown",
   "metadata": {},
   "source": [
    "- The task in the Multiple Regression chapter was to predict the CO2 emission from a car when you only knew its weight and volume.\n",
    "\n",
    "- When the data set is scaled, you will have to use the scale when you predict values:"
   ]
  },
  {
   "cell_type": "code",
   "execution_count": 38,
   "metadata": {},
   "outputs": [
    {
     "name": "stdout",
     "output_type": "stream",
     "text": [
      "[107.2087328]\n"
     ]
    },
    {
     "name": "stderr",
     "output_type": "stream",
     "text": [
      "c:\\Program Files\\Python312\\Lib\\site-packages\\sklearn\\base.py:493: UserWarning: X does not have valid feature names, but StandardScaler was fitted with feature names\n",
      "  warnings.warn(\n"
     ]
    }
   ],
   "source": [
    "regr.fit(scaledX, y)\n",
    "scaled = scale.transform([[2300, 1.3]])\n",
    "\n",
    "predictedCO2 = regr.predict([scaled[0]])\n",
    "print(predictedCO2)"
   ]
  },
  {
   "cell_type": "markdown",
   "metadata": {},
   "source": [
    "<span style='color:green; font-size:40px'>13.1 - Evaluate Your Model </span>"
   ]
  },
  {
   "cell_type": "markdown",
   "metadata": {},
   "source": [
    "- Train/Test is a method to measure the accuracy of your model.\n",
    "\n",
    "- It is called Train/Test because you split the data set into two sets: a training set and a testing set."
   ]
  },
  {
   "cell_type": "markdown",
   "metadata": {},
   "source": [
    "<img src=\"Train_Test.png\">"
   ]
  },
  {
   "cell_type": "markdown",
   "metadata": {},
   "source": [
    "<span style='color:green; font-size:40px'>13.2 - Start with a data set </span>"
   ]
  },
  {
   "cell_type": "markdown",
   "metadata": {},
   "source": [
    "- notice that we will crate a normaly distributed data :\n",
    "    - seed(2) ensures that the random generation process produces the same random numbers each time\n",
    "    - centred around the mean which is 3\n",
    "    - most ponts not all disperced by a probability of 1 ( standard deviation )\n",
    "    - it has 100 data points\n",
    "    - and we devided each y vals with x vals, to make sure their will be a correlation between x and y"
   ]
  },
  {
   "cell_type": "code",
   "execution_count": 39,
   "metadata": {},
   "outputs": [
    {
     "data": {
      "image/png": "[encoded data removed]",
      "text/plain": [
       "<Figure size 640x480 with 1 Axes>"
      ]
     },
     "metadata": {},
     "output_type": "display_data"
    }
   ],
   "source": [
    "np.random.seed(2)\n",
    "\n",
    "x = np.random.normal(3, 1, 100)\n",
    "y = np.random.normal(150, 40, 100) / x\n",
    "\n",
    "plt.scatter(x, y)\n",
    "plt.xlabel(\"x Axis\")\n",
    "plt.ylabel(\"y Axis\")\n",
    "plt.title(\"Train / Test\")\n",
    "plt.show() "
   ]
  },
  {
   "cell_type": "markdown",
   "metadata": {},
   "source": [
    "<span style='color:green; font-size:40px'>13.3 - Split Into Train/Test </span>"
   ]
  },
  {
   "cell_type": "markdown",
   "metadata": {},
   "source": [
    "- The training set should be a random selection of 80% of the original data.\n",
    "\n",
    "- The testing set should be the remaining 20%.\n",
    "- we know our data point has only 100 points, so will split using normal python slicing as the following."
   ]
  },
  {
   "cell_type": "code",
   "execution_count": 40,
   "metadata": {},
   "outputs": [],
   "source": [
    "train_x = x[:80]\n",
    "train_y = y[:80]\n",
    "\n",
    "test_x = x[80:]\n",
    "test_y = y[80:]"
   ]
  },
  {
   "cell_type": "markdown",
   "metadata": {},
   "source": [
    "<span style='color:green; font-size:40px'>13.4 - Display the Training Set </span>"
   ]
  },
  {
   "cell_type": "code",
   "execution_count": 41,
   "metadata": {},
   "outputs": [
    {
     "data": {
      "image/png": "[encoded data removed]",
      "text/plain": [
       "<Figure size 640x480 with 1 Axes>"
      ]
     },
     "metadata": {},
     "output_type": "display_data"
    }
   ],
   "source": [
    "plt.scatter(train_x, train_y)\n",
    "plt.show()"
   ]
  },
  {
   "cell_type": "markdown",
   "metadata": {},
   "source": [
    "- Result:\n",
    "\n",
    "- It looks like the original data set, so it seems to be a fair selection:"
   ]
  },
  {
   "cell_type": "markdown",
   "metadata": {},
   "source": [
    "<span style='color:green; font-size:40px'>13.5 - Display the Test Set </span>"
   ]
  },
  {
   "cell_type": "code",
   "execution_count": 42,
   "metadata": {},
   "outputs": [
    {
     "data": {
      "image/png": "[encoded data removed]",
      "text/plain": [
       "<Figure size 640x480 with 1 Axes>"
      ]
     },
     "metadata": {},
     "output_type": "display_data"
    }
   ],
   "source": [
    "plt.scatter(test_x, test_y)\n",
    "plt.show()"
   ]
  },
  {
   "cell_type": "markdown",
   "metadata": {},
   "source": [
    "- Result:\n",
    "\n",
    "- The testing set also looks like the original data set:"
   ]
  },
  {
   "cell_type": "markdown",
   "metadata": {},
   "source": [
    "<span style='color:green; font-size:40px'>13.5 - Fit the Data Set </span>"
   ]
  },
  {
   "cell_type": "markdown",
   "metadata": {},
   "source": [
    "- we will use polynomial regression.\n",
    "- np.polyfit(train_x, train_y, 4) : This function fits a polynomial of degree 4 to the training data train_x and train_y. It returns the coefficients of the polynomial, starting from the highest degree term down to the constant term.\n",
    "\n",
    "- np.poly1d(...) :  This function creates a one-dimensional polynomial function using the coefficients obtained from numpy.polyfit. This polynomial function (mymodel) can be evaluated at any value of x.\n",
    "\n",
    "- np.linspace(0, 6, 100) : This function generates 100 equally spaced points between 0 and 6. These points are used to create a smooth line (myline) for plotting the polynomial model.\n",
    "\n",
    "- the degree of the polynomial regression model is to avoid overfiting and underfiting"
   ]
  },
  {
   "cell_type": "code",
   "execution_count": 43,
   "metadata": {},
   "outputs": [
    {
     "data": {
      "image/png": "[encoded data removed]",
      "text/plain": [
       "<Figure size 640x480 with 1 Axes>"
      ]
     },
     "metadata": {},
     "output_type": "display_data"
    }
   ],
   "source": [
    "mymodel = np.poly1d(np.polyfit(train_x, train_y, 4))\n",
    "\n",
    "myline = np.linspace(0, 6, 100)\n",
    "\n",
    "plt.scatter(train_x, train_y)\n",
    "plt.plot(myline, mymodel(myline))\n",
    "plt.show() "
   ]
  },
  {
   "cell_type": "markdown",
   "metadata": {},
   "source": [
    "- The result can back our suggestion of the data set fitting a polynomial regression\n",
    "\n",
    "- the line indicates that a customer spending 6 minutes in the shop would make a purchase worth 200. That is probably a sign of overfitting."
   ]
  },
  {
   "cell_type": "markdown",
   "metadata": {},
   "source": [
    "<span style='color:green; font-size:40px'>13.6 - R2 </span>"
   ]
  },
  {
   "cell_type": "markdown",
   "metadata": {},
   "source": [
    "- Train set :\n",
    "    - R-squared score is a good indicator of how well my data set is fitting the model.\n",
    "    \n",
    "    - It measures the relationship between the x axis and the y axis, and the value ranges from 0 to 1, where 0 means no relationship, and 1 means totally related."
   ]
  },
  {
   "cell_type": "code",
   "execution_count": 44,
   "metadata": {},
   "outputs": [
    {
     "name": "stdout",
     "output_type": "stream",
     "text": [
      "0.7988645544629797\n"
     ]
    }
   ],
   "source": [
    "r2 = r2_score(train_y, mymodel(train_x))\n",
    "\n",
    "print(r2)"
   ]
  },
  {
   "cell_type": "markdown",
   "metadata": {},
   "source": [
    "- Note: The result r2 = 0.799 shows that there is a OK relationship."
   ]
  },
  {
   "cell_type": "markdown",
   "metadata": {},
   "source": [
    "- Test set :\n",
    "    - Now we have made a model that is OK, at least when it comes to training data.\n",
    "\n",
    "    - Now we want to test the model with the testing data as well, to see if gives us the same result."
   ]
  },
  {
   "cell_type": "code",
   "execution_count": 45,
   "metadata": {},
   "outputs": [
    {
     "name": "stdout",
     "output_type": "stream",
     "text": [
      "0.8086921460343581\n"
     ]
    }
   ],
   "source": [
    "r2 = r2_score(test_y, mymodel(test_x))\n",
    "\n",
    "print(r2)"
   ]
  },
  {
   "cell_type": "markdown",
   "metadata": {},
   "source": [
    "- Note: The result r2 = 0.809 shows that the model fits the testing set as well, and we are confident that we can use the model to predict future values."
   ]
  },
  {
   "cell_type": "markdown",
   "metadata": {},
   "source": [
    "<span style='color:green; font-size:40px'>13.7 - Predict values </span>"
   ]
  },
  {
   "cell_type": "markdown",
   "metadata": {},
   "source": [
    "- for exemple : How much money will a buying customer spend, if she or he stays in the shop for 5 minutes?"
   ]
  },
  {
   "cell_type": "code",
   "execution_count": 46,
   "metadata": {},
   "outputs": [
    {
     "name": "stdout",
     "output_type": "stream",
     "text": [
      "22.87962591811811\n"
     ]
    }
   ],
   "source": [
    "print(mymodel(5))"
   ]
  },
  {
   "cell_type": "markdown",
   "metadata": {},
   "source": [
    "- The example predicted the customer to spend mymodel = 22.88 dollars, as seems to correspond to the diagram:\n",
    "\n",
    "- which sounds correct if we look image bellow\n",
    "<img src=\"train_test_model.png\">"
   ]
  },
  {
   "cell_type": "markdown",
   "metadata": {},
   "source": [
    "<span style='color:green; font-size:40px'>14.1 - Decision Tree </span>"
   ]
  },
  {
   "cell_type": "markdown",
   "metadata": {},
   "source": [
    "- A <span style=\"color:red\">Decision Tree</span> is a Flow Chart, and can help you make decisions based on previous experience.\n",
    "\n",
    "- <span style=\"color:red\">Decision Trees</span> are a popular type of model used in machine learning for classification and regression tasks.\n",
    "\n",
    "- In the example, a person will try to decide if he/she should go to a comedy show or not.\n",
    "\n",
    "- Luckily our example person has registered every time there was a comedy show in town, and registered some information about the comedian, and also registered if he/she went or not."
   ]
  },
  {
   "cell_type": "code",
   "execution_count": 47,
   "metadata": {},
   "outputs": [
    {
     "data": {
      "text/html": [
       "<div>\n",
       "<style scoped>\n",
       "    .dataframe tbody tr th:only-of-type {\n",
       "        vertical-align: middle;\n",
       "    }\n",
       "\n",
       "    .dataframe tbody tr th {\n",
       "        vertical-align: top;\n",
       "    }\n",
       "\n",
       "    .dataframe thead th {\n",
       "        text-align: right;\n",
       "    }\n",
       "</style>\n",
       "<table border=\"1\" class=\"dataframe\">\n",
       "  <thead>\n",
       "    <tr style=\"text-align: right;\">\n",
       "      <th></th>\n",
       "      <th>Age</th>\n",
       "      <th>Experience</th>\n",
       "      <th>Rank</th>\n",
       "      <th>Nationality</th>\n",
       "      <th>Go</th>\n",
       "    </tr>\n",
       "  </thead>\n",
       "  <tbody>\n",
       "    <tr>\n",
       "      <th>0</th>\n",
       "      <td>36</td>\n",
       "      <td>10</td>\n",
       "      <td>9</td>\n",
       "      <td>UK</td>\n",
       "      <td>NO</td>\n",
       "    </tr>\n",
       "    <tr>\n",
       "      <th>1</th>\n",
       "      <td>42</td>\n",
       "      <td>12</td>\n",
       "      <td>4</td>\n",
       "      <td>USA</td>\n",
       "      <td>NO</td>\n",
       "    </tr>\n",
       "    <tr>\n",
       "      <th>2</th>\n",
       "      <td>23</td>\n",
       "      <td>4</td>\n",
       "      <td>6</td>\n",
       "      <td>N</td>\n",
       "      <td>NO</td>\n",
       "    </tr>\n",
       "    <tr>\n",
       "      <th>3</th>\n",
       "      <td>52</td>\n",
       "      <td>4</td>\n",
       "      <td>4</td>\n",
       "      <td>USA</td>\n",
       "      <td>NO</td>\n",
       "    </tr>\n",
       "    <tr>\n",
       "      <th>4</th>\n",
       "      <td>43</td>\n",
       "      <td>21</td>\n",
       "      <td>8</td>\n",
       "      <td>USA</td>\n",
       "      <td>YES</td>\n",
       "    </tr>\n",
       "  </tbody>\n",
       "</table>\n",
       "</div>"
      ],
      "text/plain": [
       "   Age  Experience  Rank Nationality   Go\n",
       "0   36          10     9          UK   NO\n",
       "1   42          12     4         USA   NO\n",
       "2   23           4     6           N   NO\n",
       "3   52           4     4         USA   NO\n",
       "4   43          21     8         USA  YES"
      ]
     },
     "execution_count": 47,
     "metadata": {},
     "output_type": "execute_result"
    }
   ],
   "source": [
    "df = pd.read_csv(\"comedy.csv\")\n",
    "df.head()"
   ]
  },
  {
   "cell_type": "markdown",
   "metadata": {},
   "source": [
    "- Now, based on this data set, Python can create a decision tree that can be used to decide if any new shows are worth attending to."
   ]
  },
  {
   "cell_type": "markdown",
   "metadata": {},
   "source": [
    "<span style='color:green; font-size:40px'>14.2 - Converte all to numerique vals </span>"
   ]
  },
  {
   "cell_type": "markdown",
   "metadata": {},
   "source": [
    "- To make a decision tree, all data has to be numerical.\n",
    "\n",
    "- We have to convert the non numerical columns 'Nationality' and 'Go' into numerical values.\n",
    "\n",
    "- Pandas has a map() method that takes a dictionary with information on how to convert the values.\n",
    "\n",
    "- <span style=\"color:red\">{'UK': 0, 'USA': 1, 'N': 2}</span>\n",
    "\n",
    "- Means convert the values 'UK' to 0, 'USA' to 1, and 'N' to 2."
   ]
  },
  {
   "cell_type": "code",
   "execution_count": 48,
   "metadata": {},
   "outputs": [
    {
     "data": {
      "text/html": [
       "<div>\n",
       "<style scoped>\n",
       "    .dataframe tbody tr th:only-of-type {\n",
       "        vertical-align: middle;\n",
       "    }\n",
       "\n",
       "    .dataframe tbody tr th {\n",
       "        vertical-align: top;\n",
       "    }\n",
       "\n",
       "    .dataframe thead th {\n",
       "        text-align: right;\n",
       "    }\n",
       "</style>\n",
       "<table border=\"1\" class=\"dataframe\">\n",
       "  <thead>\n",
       "    <tr style=\"text-align: right;\">\n",
       "      <th></th>\n",
       "      <th>Age</th>\n",
       "      <th>Experience</th>\n",
       "      <th>Rank</th>\n",
       "      <th>Nationality</th>\n",
       "      <th>Go</th>\n",
       "    </tr>\n",
       "  </thead>\n",
       "  <tbody>\n",
       "    <tr>\n",
       "      <th>0</th>\n",
       "      <td>36</td>\n",
       "      <td>10</td>\n",
       "      <td>9</td>\n",
       "      <td>0</td>\n",
       "      <td>0</td>\n",
       "    </tr>\n",
       "    <tr>\n",
       "      <th>1</th>\n",
       "      <td>42</td>\n",
       "      <td>12</td>\n",
       "      <td>4</td>\n",
       "      <td>1</td>\n",
       "      <td>0</td>\n",
       "    </tr>\n",
       "    <tr>\n",
       "      <th>2</th>\n",
       "      <td>23</td>\n",
       "      <td>4</td>\n",
       "      <td>6</td>\n",
       "      <td>2</td>\n",
       "      <td>0</td>\n",
       "    </tr>\n",
       "    <tr>\n",
       "      <th>3</th>\n",
       "      <td>52</td>\n",
       "      <td>4</td>\n",
       "      <td>4</td>\n",
       "      <td>1</td>\n",
       "      <td>0</td>\n",
       "    </tr>\n",
       "    <tr>\n",
       "      <th>4</th>\n",
       "      <td>43</td>\n",
       "      <td>21</td>\n",
       "      <td>8</td>\n",
       "      <td>1</td>\n",
       "      <td>1</td>\n",
       "    </tr>\n",
       "  </tbody>\n",
       "</table>\n",
       "</div>"
      ],
      "text/plain": [
       "   Age  Experience  Rank  Nationality  Go\n",
       "0   36          10     9            0   0\n",
       "1   42          12     4            1   0\n",
       "2   23           4     6            2   0\n",
       "3   52           4     4            1   0\n",
       "4   43          21     8            1   1"
      ]
     },
     "execution_count": 48,
     "metadata": {},
     "output_type": "execute_result"
    }
   ],
   "source": [
    "d = {'UK': 0, 'USA': 1, 'N': 2}\n",
    "df['Nationality'] = df['Nationality'].map(d)\n",
    "d = {'YES': 1, 'NO': 0}\n",
    "df['Go'] = df['Go'].map(d)\n",
    "\n",
    "df.head()"
   ]
  },
  {
   "cell_type": "markdown",
   "metadata": {},
   "source": [
    "<span style='color:green; font-size:40px'>14.3 - Seperating Features from Targets</span>"
   ]
  },
  {
   "cell_type": "markdown",
   "metadata": {},
   "source": [
    "- We have to separate the feature columns from the target column.\n",
    "\n",
    "- The feature columns are the columns that we try to predict from, and the target column is the column with the values we try to predict."
   ]
  },
  {
   "cell_type": "markdown",
   "metadata": {},
   "source": [
    "<span style=\"color:red\">X</span> is the feature columns, <span style=\"color:red\">y</span> is the target column:"
   ]
  },
  {
   "cell_type": "code",
   "execution_count": 49,
   "metadata": {},
   "outputs": [
    {
     "name": "stdout",
     "output_type": "stream",
     "text": [
      "    Age  Experience  Rank  Nationality\n",
      "0    36          10     9            0\n",
      "1    42          12     4            1\n",
      "2    23           4     6            2\n",
      "3    52           4     4            1\n",
      "4    43          21     8            1\n",
      "5    44          14     5            0\n",
      "6    66           3     7            2\n",
      "7    35          14     9            0\n",
      "8    52          13     7            2\n",
      "9    35           5     9            2\n",
      "10   24           3     5            1\n",
      "11   18           3     7            0\n",
      "12   45           9     9            0 \n",
      "\n",
      "################################################################################ \n",
      "\n",
      "0     0\n",
      "1     0\n",
      "2     0\n",
      "3     0\n",
      "4     1\n",
      "5     0\n",
      "6     1\n",
      "7     1\n",
      "8     1\n",
      "9     1\n",
      "10    0\n",
      "11    1\n",
      "12    1\n",
      "Name: Go, dtype: int64\n"
     ]
    }
   ],
   "source": [
    "features = ['Age', 'Experience', 'Rank', 'Nationality']\n",
    "# target = [\"Go\"]\n",
    "X = df[features]\n",
    "y = df['Go']\n",
    "\n",
    "print(X,\"\\n\")\n",
    "print(\"#\"*80,\"\\n\")\n",
    "print(y)"
   ]
  },
  {
   "cell_type": "markdown",
   "metadata": {},
   "source": [
    "- <span style=\"color:red\">dtree = DecisionTreeClassifier()</span> This classifier is used to build a decision tree model for classification tasks.\n",
    "\n",
    "- <span style=\"color:red\">dtree = dtree.fit(X, y)</span> This line fits (trains) the decision tree classifier dtree to the training data X and the corresponding target labels y. In other words, it uses the features X and their corresponding target labels y to learn how t\n",
    "\n",
    "- The last line of code visualize the trained dtree"
   ]
  },
  {
   "cell_type": "code",
   "execution_count": 55,
   "metadata": {},
   "outputs": [
    {
     "data": {
      "text/plain": [
       "[Text(0.4, 0.9, 'Rank <= 6.5\\ngini = 0.497\\nsamples = 13\\nvalue = [6, 7]'),\n",
       " Text(0.2, 0.7, 'gini = 0.0\\nsamples = 5\\nvalue = [5, 0]'),\n",
       " Text(0.6, 0.7, 'Nationality <= 0.5\\ngini = 0.219\\nsamples = 8\\nvalue = [1, 7]'),\n",
       " Text(0.4, 0.5, 'Experience <= 9.5\\ngini = 0.375\\nsamples = 4\\nvalue = [1, 3]'),\n",
       " Text(0.2, 0.3, 'gini = 0.0\\nsamples = 2\\nvalue = [0, 2]'),\n",
       " Text(0.6, 0.3, 'Experience <= 12.0\\ngini = 0.5\\nsamples = 2\\nvalue = [1, 1]'),\n",
       " Text(0.4, 0.1, 'gini = 0.0\\nsamples = 1\\nvalue = [1, 0]'),\n",
       " Text(0.8, 0.1, 'gini = 0.0\\nsamples = 1\\nvalue = [0, 1]'),\n",
       " Text(0.8, 0.5, 'gini = 0.0\\nsamples = 4\\nvalue = [0, 4]')]"
      ]
     },
     "execution_count": 55,
     "metadata": {},
     "output_type": "execute_result"
    },
    {
     "data": {
      "image/png": "[encoded data removed]",
      "text/plain": [
       "<Figure size 800x1200 with 1 Axes>"
      ]
     },
     "metadata": {},
     "output_type": "display_data"
    }
   ],
   "source": [
    "dtree = DecisionTreeClassifier()\n",
    "dtree = dtree.fit(X, y)\n",
    "\n",
    "plt.figure(figsize=(8,12)) # plot fig size\n",
    "\n",
    "tree.plot_tree(dtree, feature_names=features)"
   ]
  },
  {
   "cell_type": "markdown",
   "metadata": {},
   "source": [
    "<span style='color:green; font-size:40px'>14.4 - Explaining the tree</span>"
   ]
  },
  {
   "cell_type": "markdown",
   "metadata": {},
   "source": [
    "- The decision tree uses our earlier decisions to calculate the odds of us to wanting to go to see a comedian or not.</br>\n",
    "\n",
    "<img src=\"./Dtree1.png\">"
   ]
  },
  {
   "cell_type": "markdown",
   "metadata": {},
   "source": [
    "<div style=\"text-align:center ;font-size:32px;\">Rank : </div> </br>\n",
    "\n",
    "- <span style=\"color:red\">Rank</span> = 6.5 means that every comedian with a rank of 6.5 or lower will follow the True arrow (to the left), and the rest will follow the False arrow (to the right).\n",
    "\n",
    "- <span style=\"color:red\">gini</span> = 0.497 refers to the quality of the split, and is always a number between 0.0 and 0.5, where 0.0 would mean all of the samples got the same result, and 0.5 would mean that the split is done exactly in the middle.\n",
    "\n",
    "- <span style=\"color:red\">samples</span> = 13 means that there are 13 comedians left at this point in the decision, which is all of them since this is the first step.\n",
    "\n",
    "- <span style=\"color:red\">value</span> = [6, 7] means that of these 13 comedians, 6 will get a \"NO\", and 7 will get a \"GO\"."
   ]
  },
  {
   "cell_type": "markdown",
   "metadata": {},
   "source": [
    "<div style=\"text-align:center ;font-size:32px;\">Gini : </div> </br>\n",
    "\n",
    "- There are many ways to split the samples, we use the GINI method in this tutorial.\n",
    "\n",
    "- The Gini method uses this formula:\n",
    "\n",
    "- <span style=\"color:red\">Gini = 1 - (x/n)2 - (y/n)2</span>\n",
    "\n",
    "- Where <span style=\"color:red\">x</span> is the number of positive answers(\"GO\"), <span style=\"color:red\">n</span> is the number of samples, and <span style=\"color:red\">y</span> is the number of negative answers (\"NO\"), which gives us this calculation:\n",
    "\n",
    "- <span style=\"color:red\">1 - (7 / 13)2 - (6 / 13)2 = 0.497</span>\n"
   ]
  },
  {
   "cell_type": "markdown",
   "metadata": {},
   "source": [
    "<img src=\"./Dtree2.png\"></br>\n",
    "\n",
    "<div style=\"text-align:center ;font-size:32px;\">Rank < 6.5 : </div>\n",
    "\n",
    "<div style=\"text-align:center ;font-size:22px;\"> True - 5 Comedians End Here: </div> </br>\n",
    "\n",
    "- The next step contains two boxes, one box for the comedians with a 'Rank' of 6.5 or lower, and one box with the rest.\n",
    "True - 5 Comedians End Here:\n",
    "\n",
    "- <span style=\"color:red\">gini = 0.0</span> means all of the samples got the same result.\n",
    "\n",
    "- <span style=\"color:red\">samples = 5</span> means that there are 5 comedians left in this branch (5 comedian with a Rank of 6.5 or lower).\n",
    "\n",
    "- <span style=\"color:red\">value = [5, 0]</span> means that 5 will get a \"NO\" and 0 will get a \"GO\".\n",
    "\n",
    "<div style=\"text-align:center ;font-size:32px;\">Nationality : </div>\n",
    "\n",
    "<div style=\"text-align:center ;font-size:22px;\"> False - 8 Comedians Continue: </div> </br>\n",
    "\n",
    "- <span style=\"color:red\">Nationality <= 0.5</span> means that the comedians with a nationality value of less than 0.5 will follow the arrow to the left (which means everyone from the UK, ), and the rest will follow the arrow to the right.\n",
    "\n",
    "- <span style=\"color:red\">gini = 0.219</span> means that about 22% of the samples would go in one direction.\n",
    "\n",
    "- <span style=\"color:red\">samples = 8</span> means that there are 8 comedians left in this branch (8 comedian with a Rank higher than 6.5).\n",
    "\n",
    "- <span style=\"color:red\">value = [1, 7]</span> means that of these 8 comedians, 1 will get a \"NO\" and 7 will get a \"GO\"."
   ]
  },
  {
   "cell_type": "markdown",
   "metadata": {},
   "source": [
    "<img src=\"./Dtree3.png\"></br>\n",
    "\n",
    "<div style=\"text-align:center ;font-size:32px;\">Age : </div>\n",
    "\n",
    "<div style=\"text-align:center ;font-size:22px;\"> True - 4 Comedians Continue: </div> </br>\n",
    "\n",
    "- <span style=\"color:red\">Age <= 35.5</span> means that comedians at the age of 35.5 or younger will follow the arrow to the left, and the rest will follow the arrow to the right.\n",
    "\n",
    "- <span style=\"color:red\">gini = 0.375</span> means that about 37,5% of the samples would go in one direction.\n",
    "\n",
    "- <span style=\"color:red\">samples = 4</span> means that there are 4 comedians left in this branch (4 comedians from the UK).\n",
    "\n",
    "- <span style=\"color:red\">value = [1, 3]</span> means that of these 4 comedians, 1 will get a \"NO\" and 3 will get a \"GO\".\n",
    "\n",
    "<div style=\"text-align:center ;font-size:22px;\"> False - 4 Comedians End Here: </div> </br>\n",
    "\n",
    "- <span style=\"color:red\">gini = 0.0</span> means all of the samples got the same result.\n",
    "\n",
    "- <span style=\"color:red\">samples = 4</span> means that there are 4 comedians left in this branch (4 comedians not from the UK).\n",
    "\n",
    "- <span style=\"color:red\">value = [0, 4]</span> means that of these 4 comedians, 0 will get a \"NO\" and 4 will get a \"GO\".\n"
   ]
  },
  {
   "cell_type": "markdown",
   "metadata": {},
   "source": [
    "<img src=\"./Dtree3.png\"></br>\n",
    "\n",
    "<div style=\"text-align:center ;font-size:22px;\"> True - 2 Comedians End Here: </div> </br>\n",
    "\n",
    "- <span style=\"color:red\">gini = 0.0</span> means all of the samples got the same result.\n",
    "\n",
    "- <span style=\"color:red\">samples = 2</span> means that there are 2 comedians left in this branch (2 comedians at the age 35.5 or younger).\n",
    "\n",
    "- <span style=\"color:red\">value = [0, 2]</span> means that of these 2 comedians, 0 will get a \"NO\" and 2 will get a \"GO\".\n",
    "\n",
    "<div style=\"text-align:center ;font-size:32px;\">Experience : </div>\n",
    "\n",
    "<div style=\"text-align:center ;font-size:22px;\"> True - 2 Comedians End Here: </div> </br>\n",
    "\n",
    "- <span style=\"color:red\">Experience <= 9.5</span> means that comedians with 9.5 years of experience, or less, will follow the arrow to the left, and the rest will follow the arrow to the right.\n",
    "\n",
    "- <span style=\"color:red\">gini = 0.5</span> means that 50% of the samples would go in one direction.\n",
    "\n",
    "- <span style=\"color:red\">samples = 2</span> means that there are 2 comedians left in this branch (2 comedians older than 35.5).\n",
    "\n",
    "- <span style=\"color:red\">value = [1, 1]</span> means that of these 2 comedians, 1 will get a \"NO\" and 1 will get a \"GO\"."
   ]
  },
  {
   "cell_type": "markdown",
   "metadata": {},
   "source": [
    "<img src=\"./Dtree5.png\"></br>\n",
    "\n",
    "<div style=\"text-align:center ;font-size:22px;\"> True - 1 Comedian Ends Here: </div> </br>\n",
    "\n",
    "- <span style=\"color:red\">gini = 0.0</span> means all of the samples got the same result.\n",
    "\n",
    "- <span style=\"color:red\">samples = 1</span> means that there is 1 comedian left in this branch (1 comedian with 9.5 years of experience or less).\n",
    "\n",
    "- <span style=\"color:red\">value = [0, 1]</span> means that 0 will get a \"NO\" and 1 will get a \"GO\".\n",
    "\n",
    "<div style=\"text-align:center ;font-size:22px;\"> False - 1 Comedian Ends Here: </div> </br>\n",
    "\n",
    "- <span style=\"color:red\">gini = 0.0</span> means all of the samples got the same result.\n",
    "\n",
    "- <span style=\"color:red\">samples = 1</span> means that there is 1 comedians left in this branch (1 comedian with more than 9.5 years of experience).\n",
    "\n",
    "- <span style=\"color:red\">value = [1, 0]</span> means that 1 will get a \"NO\" and 0 will get a \"GO\".\n"
   ]
  },
  {
   "cell_type": "markdown",
   "metadata": {},
   "source": [
    "<span style='color:green; font-size:40px'>14.5 - Predict Values</span>"
   ]
  },
  {
   "cell_type": "markdown",
   "metadata": {},
   "source": [
    "- We can use the Decision Tree to predict new values.\n",
    "\n",
    "- Example: Should I go see a show starring a 40 years old American comedian, with 10 years of experience, and a comedy ranking of 7?"
   ]
  },
  {
   "cell_type": "markdown",
   "metadata": {},
   "source": [
    "- Exemple :"
   ]
  },
  {
   "cell_type": "code",
   "execution_count": 56,
   "metadata": {},
   "outputs": [
    {
     "name": "stdout",
     "output_type": "stream",
     "text": [
      "[1]\n"
     ]
    },
    {
     "name": "stderr",
     "output_type": "stream",
     "text": [
      "c:\\Program Files\\Python312\\Lib\\site-packages\\sklearn\\base.py:493: UserWarning: X does not have valid feature names, but DecisionTreeClassifier was fitted with feature names\n",
      "  warnings.warn(\n"
     ]
    }
   ],
   "source": [
    "print(dtree.predict([[40, 10, 7, 1]]))"
   ]
  },
  {
   "cell_type": "code",
   "execution_count": 57,
   "metadata": {},
   "outputs": [
    {
     "name": "stdout",
     "output_type": "stream",
     "text": [
      "[0]\n"
     ]
    },
    {
     "name": "stderr",
     "output_type": "stream",
     "text": [
      "c:\\Program Files\\Python312\\Lib\\site-packages\\sklearn\\base.py:493: UserWarning: X does not have valid feature names, but DecisionTreeClassifier was fitted with feature names\n",
      "  warnings.warn(\n"
     ]
    }
   ],
   "source": [
    "print(dtree.predict([[40, 10, 6, 1]])) "
   ]
  },
  {
   "cell_type": "markdown",
   "metadata": {},
   "source": [
    "\n",
    "<div style=\"text-align:center;\">\n",
    "\n",
    "- Different Results\n",
    "\n",
    "- You will see that the Decision Tree gives you different results if you run it enough times, even if you feed it with the same data.\n",
    "\n",
    "- That is because the Decision Tree does not give us a 100% certain answer. It is based on the probability of an outcome, and the answer will vary.\n",
    "</div>"
   ]
  }
 ],
 "metadata": {
  "kernelspec": {
   "display_name": "Python 3",
   "language": "python",
   "name": "python3"
  },
  "language_info": {
   "codemirror_mode": {
    "name": "ipython",
    "version": 3
   },
   "file_extension": ".py",
   "mimetype": "text/x-python",
   "name": "python",
   "nbconvert_exporter": "python",
   "pygments_lexer": "ipython3",
   "version": "3.12.2"
  }
 },
 "nbformat": 4,
 "nbformat_minor": 2
}

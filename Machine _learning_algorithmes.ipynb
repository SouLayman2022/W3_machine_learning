{
 "cells": [
  {
   "cell_type": "markdown",
   "metadata": {},
   "source": [
    "<div style='text-align:center'>\n",
    "\n",
    "<span style=\"color:green; font-size:40px;\">Created by Soulayman</span></br>\n",
    "<span>\n",
    "    <a href='https://www.linkedin.com/in/soulayman-el-guasmi-13b890240/'>\n",
    "    <img src='icons8-linkedin-96.png' style='width:36px;height:auto'>Click me ;)</a></br>\n",
    "    <a href='https://soulayman2022.github.io/Data_Scientist_Portfolio/'>\n",
    "    <img src='icons8-portfolio-100.png' style='width:32px;height:auto'> Click me too ;)</a>\n",
    "</span>\n",
    "\n",
    "</div>"
   ]
  },
  {
   "cell_type": "markdown",
   "metadata": {},
   "source": [
    "<span style=\"color:green; font-size:40px\">Machine Learning</span>\n",
    "\n",
    "<img src='W3Schools_logo.svg.png' style=' width:320px; height:auto'/>\n",
    "<br/>\n",
    "\n",
    "### Redirection to course link : <a href='https://www.w3schools.com/python/python_ml_getting_started.asp'>link to course</a>"
   ]
  },
  {
   "cell_type": "markdown",
   "metadata": {},
   "source": [
    "<span style='color:green; font-size:40px'>1 - Data Types</span>\n",
    "<ul>\n",
    "    <li>a)\tQualitative Features </li>\n",
    "        <ul>\n",
    "            <li>Nominal Data </li>\n",
    "                categorical data ( finite number of categories or groups ), cannot be ordered</br>\n",
    "                <img src='nominal_data.png'></br>\n",
    "                on this exemple we will use one hot encoding to index the data, we can go up to 64 bits, on real wordl a.i the number of paramters to train a model is from  7 billion up to 175 billion ( Chat_Gpt fro exemple)</br>\n",
    "                <img src='one_hot_encoding.png'></br>\n",
    "            <li>Ordinal Data </li>\n",
    "                data that can be ordered like age, size, satisfaction …</br>\n",
    "                <img src='ordinal_data.png'></br>\n",
    "        </ul>\n",
    "    <li>b)\tQuantitative Features </li>\n",
    "        <ul>\n",
    "                <li>Continuous Data  </li>\n",
    "                    numerical data, represent real numbers or a range</br>\n",
    "                    <img src='Continuos_data.png'></br>\n",
    "                <li>Discrete Data  </li>\n",
    "                    numerical Data : numerical data, represent discontinuous data, integers</br>\n",
    "                    <img src='Discret_data.png'></br>\n",
    "        </ul>\n",
    "</ul>"
   ]
  },
  {
   "cell_type": "markdown",
   "metadata": {},
   "source": [
    "<span style='color:green; font-size:40px'>2 - Mean, Median, and Mode</span>"
   ]
  },
  {
   "cell_type": "markdown",
   "metadata": {},
   "source": [
    "<ul>\n",
    "    <li>a) Mean </li>\n",
    "</ul>"
   ]
  },
  {
   "cell_type": "code",
   "execution_count": 6,
   "metadata": {},
   "outputs": [
    {
     "name": "stdout",
     "output_type": "stream",
     "text": [
      "89.76923076923077\n"
     ]
    }
   ],
   "source": [
    "import numpy\n",
    "\n",
    "speed = [99,86,87,88,111,86,103,87,94,78,77,85,86]\n",
    "\n",
    "x = numpy.mean(speed)\n",
    "\n",
    "print(x)"
   ]
  },
  {
   "cell_type": "markdown",
   "metadata": {},
   "source": [
    "<ul>\n",
    "    <li>b) Median </li>\n",
    "</ul>"
   ]
  },
  {
   "cell_type": "code",
   "execution_count": 4,
   "metadata": {},
   "outputs": [
    {
     "name": "stdout",
     "output_type": "stream",
     "text": [
      "87.0\n"
     ]
    }
   ],
   "source": [
    "#if number of data points is odd it's middle value if not \n",
    "#it's the sum of the 2 middle values\n",
    "speed = [99,86,87,88,111,86,103,87,94,78,77,85,86]\n",
    "\n",
    "x = numpy.median(speed)\n",
    "\n",
    "print(x) "
   ]
  },
  {
   "cell_type": "markdown",
   "metadata": {},
   "source": [
    "<ul>\n",
    "    <li>c) Mode </li>\n",
    "</ul>"
   ]
  },
  {
   "cell_type": "code",
   "execution_count": 5,
   "metadata": {},
   "outputs": [
    {
     "name": "stdout",
     "output_type": "stream",
     "text": [
      "ModeResult(mode=86, count=3)\n"
     ]
    }
   ],
   "source": [
    "from scipy import stats\n",
    "\n",
    "speed = [99,86,87,88,111,86,103,87,94,78,77,85,86]\n",
    "\n",
    "x = stats.mode(speed)\n",
    "\n",
    "print(x)"
   ]
  },
  {
   "cell_type": "markdown",
   "metadata": {},
   "source": [
    "<span style='font-size:40px; color:green'>3 - Standard Deviation</span> </br>\n",
    "Standard deviation is a number that describes how spread out the values are.\n",
    "\n",
    "A low standard deviation means that most of the numbers are close to the mean (average) value.\n",
    "\n",
    "A high standard deviation means that the values are spread out over a wider range."
   ]
  },
  {
   "cell_type": "code",
   "execution_count": 19,
   "metadata": {},
   "outputs": [
    {
     "name": "stdout",
     "output_type": "stream",
     "text": [
      "The sd is small 0.90.\n",
      "Which mean the all values are within a range of 0.90 max\n",
      "From mean values 0.9035079029052513\n",
      "The mean is 86.43\n"
     ]
    }
   ],
   "source": [
    "speed = [86,87,88,86,87,85,86]\n",
    "\n",
    "x = numpy.std(speed)\n",
    "y =numpy.mean(speed)\n",
    "\n",
    "print(f'The sd is small {x:.2f}.\\nWhich mean the all values are within a range of {x:.2f} max\\nFrom mean values {x}')\n",
    "print(f'The mean is {y:.2f}')"
   ]
  },
  {
   "cell_type": "markdown",
   "metadata": {},
   "source": [
    "<span style='font-size:40px; color:green'>4 - Variance</span> </br>\n",
    "Variance is another number that indicates how spread out the values are.\n",
    "\n",
    "In fact, if you take the square root of the variance, you get the standard deviation!\n",
    "\n",
    "Or the other way around, if you multiply the standard deviation by itself, you get the variance!"
   ]
  },
  {
   "cell_type": "code",
   "execution_count": 25,
   "metadata": {},
   "outputs": [
    {
     "name": "stdout",
     "output_type": "stream",
     "text": [
      "the standar deviation is square root of Variance : 0.82\n",
      "the Variance is square of standar deviation : 0.90\n"
     ]
    }
   ],
   "source": [
    "z = numpy.var(speed)\n",
    "print(f'the standard deviation is square root of Variance : {z:.2f}')\n",
    "print(f'the Variance is square of standard deviation : {x:.2f}')"
   ]
  },
  {
   "cell_type": "markdown",
   "metadata": {},
   "source": [
    "Standard Deviation is often represented by the symbol Sigma: σ\n",
    "\n",
    "Variance is often represented by the symbol Sigma Squared: σ2 "
   ]
  },
  {
   "cell_type": "markdown",
   "metadata": {},
   "source": [
    "<span style='font-size:40px; color:green'>6 - Percentiles or quantiles</span> </br>\n"
   ]
  },
  {
   "cell_type": "markdown",
   "metadata": {},
   "source": [
    "Percentiles are used in statistics to give you a number that describes the value that a given percent of the values are lower than.\n",
    "\n",
    "in numpy we use the method name <span style='color: #3498db'>.percentile(value)</span> while in pandas we use <span style='color: #3498db'>.quantile(value)</span>"
   ]
  },
  {
   "cell_type": "code",
   "execution_count": 38,
   "metadata": {},
   "outputs": [
    {
     "name": "stdout",
     "output_type": "stream",
     "text": [
      "43.0\n",
      "43.0\n"
     ]
    }
   ],
   "source": [
    "import pandas as pd \n",
    "\n",
    "ages = [5,31,43,48,50,41,7,11,15,39,80,82,32,2,8,6,25,36,27,61,31]\n",
    "x = numpy.percentile(ages, 75)\n",
    "\n",
    "ages2 = pd.Series([5,31,43,48,50,41,7,11,15,39,80,82,32,2,8,6,25,36,27,61,31]) #Pandas Serie\n",
    "quantile_val = ages2.quantile(0.75)\n",
    "\n",
    "print(x)\n",
    "print(quantile_val)"
   ]
  },
  {
   "cell_type": "markdown",
   "metadata": {},
   "source": [
    "What is the 75. percentile? The answer is 43, meaning that 75% of the people are 43 or younger."
   ]
  }
 ],
 "metadata": {
  "kernelspec": {
   "display_name": "Python 3",
   "language": "python",
   "name": "python3"
  },
  "language_info": {
   "codemirror_mode": {
    "name": "ipython",
    "version": 3
   },
   "file_extension": ".py",
   "mimetype": "text/x-python",
   "name": "python",
   "nbconvert_exporter": "python",
   "pygments_lexer": "ipython3",
   "version": "3.12.2"
  }
 },
 "nbformat": 4,
 "nbformat_minor": 2
}

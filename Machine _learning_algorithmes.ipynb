{
 "cells": [
  {
   "cell_type": "markdown",
   "metadata": {},
   "source": [
    "<div style='text-align:center'>\n",
    "\n",
    "<span style=\"color:green; font-size:40px;\">Created by Soulayman</span></br>\n",
    "<span>\n",
    "    <a href='https://www.linkedin.com/in/soulayman-el-guasmi-13b890240/'>\n",
    "    <img src='icons8-linkedin-96.png' style='width:36px;height:auto'>Click me ;)</a></br>\n",
    "    <a href='https://soulayman2022.github.io/Data_Scientist_Portfolio/'>\n",
    "    <img src='icons8-portfolio-100.png' style='width:32px;height:auto'> Click me too ;)</a></br></br>\n",
    "    <a href=\"https://github.com/SouLayman2022\">\n",
    "    <img src=\"GitHub-Logo.png\" style='width:32px;height:auto'> Click another time ;)</a>\n",
    "</span>\n",
    "\n",
    "</div>"
   ]
  },
  {
   "cell_type": "markdown",
   "metadata": {},
   "source": [
    "<span style=\"color:green; font-size:40px\">Machine Learning</span><br/>\n",
    "\n",
    "<img src='W3Schools_logo.svg.png' style=' width:320px; height:auto'/>\n",
    "<br/>\n",
    "\n",
    "### Redirection to course link : <a href='https://www.w3schools.com/python/python_ml_getting_started.asp'>link to course</a>"
   ]
  },
  {
   "cell_type": "markdown",
   "metadata": {},
   "source": [
    "<span style='color:green; font-size:40px'>0 - Importing necessary Modules and libs</span><br/>\n"
   ]
  },
  {
   "cell_type": "code",
   "execution_count": 41,
   "metadata": {},
   "outputs": [],
   "source": [
    "import numpy as np\n",
    "from scipy import stats\n",
    "import pandas as pd\n",
    "import matplotlib.pyplot as plt\n",
    "from sklearn.linear_model import LinearRegression\n",
    "from sklearn import linear_model \n",
    "from sklearn.metrics import r2_score\n",
    "from sklearn.preprocessing import StandardScaler"
   ]
  },
  {
   "cell_type": "markdown",
   "metadata": {},
   "source": [
    "<span style='color:green; font-size:40px'>1 - Data Types</span><br/>\n",
    "<ul>\n",
    "    <li>a)\tQualitative Features </li>\n",
    "        <ul>\n",
    "            <li>Nominal Data </li>\n",
    "                categorical data ( finite number of categories or groups ), cannot be ordered</br>\n",
    "                <img src='nominal_data.png'></br>\n",
    "                on this exemple we will use one hot encoding to index the data, we can go up to 64 bits, on real wordl a.i the number of paramters to train a model is from  7 billion up to 175 billion ( Chat_Gpt fro exemple)</br>\n",
    "                <img src='one_hot_encoding.png'></br>\n",
    "            <li>Ordinal Data </li>\n",
    "                data that can be ordered like age, size, satisfaction …</br>\n",
    "                <img src='ordinal_data.png'></br>\n",
    "        </ul>\n",
    "    <li>b)\tQuantitative Features </li>\n",
    "        <ul>\n",
    "                <li>Continuous Data  </li>\n",
    "                    numerical data, represent real numbers or a range</br>\n",
    "                    <img src='Continuos_data.png'></br>\n",
    "                <li>Discrete Data  </li>\n",
    "                    numerical Data : numerical data, represent discontinuous data, integers</br>\n",
    "                    <img src='Discret_data.png'></br>\n",
    "        </ul>\n",
    "</ul>"
   ]
  },
  {
   "cell_type": "markdown",
   "metadata": {},
   "source": [
    "<span style='color:green; font-size:40px'>2 - Mean, Median, and Mode</span>"
   ]
  },
  {
   "cell_type": "markdown",
   "metadata": {},
   "source": [
    "<ul>\n",
    "    <li>a) Mean </li>\n",
    "</ul>"
   ]
  },
  {
   "cell_type": "code",
   "execution_count": 2,
   "metadata": {},
   "outputs": [
    {
     "name": "stdout",
     "output_type": "stream",
     "text": [
      "89.76923076923077\n"
     ]
    }
   ],
   "source": [
    "speed = [99,86,87,88,111,86,103,87,94,78,77,85,86]\n",
    "\n",
    "x = np.mean(speed)\n",
    "\n",
    "print(x)"
   ]
  },
  {
   "cell_type": "markdown",
   "metadata": {},
   "source": [
    "<ul>\n",
    "    <li>b) Median </li>\n",
    "</ul>"
   ]
  },
  {
   "cell_type": "code",
   "execution_count": 3,
   "metadata": {},
   "outputs": [
    {
     "name": "stdout",
     "output_type": "stream",
     "text": [
      "87.0\n"
     ]
    }
   ],
   "source": [
    "#if number of data points is odd it's middle value if not \n",
    "#it's the sum of the 2 middle values\n",
    "speed = [99,86,87,88,111,86,103,87,94,78,77,85,86]\n",
    "\n",
    "x = np.median(speed)\n",
    "\n",
    "print(x) "
   ]
  },
  {
   "cell_type": "markdown",
   "metadata": {},
   "source": [
    "<ul>\n",
    "    <li>c) Mode </li>\n",
    "</ul>"
   ]
  },
  {
   "cell_type": "code",
   "execution_count": 4,
   "metadata": {},
   "outputs": [
    {
     "name": "stdout",
     "output_type": "stream",
     "text": [
      "ModeResult(mode=86, count=3)\n"
     ]
    }
   ],
   "source": [
    "speed = [99,86,87,88,111,86,103,87,94,78,77,85,86]\n",
    "\n",
    "x = stats.mode(speed)\n",
    "\n",
    "print(x)"
   ]
  },
  {
   "cell_type": "markdown",
   "metadata": {},
   "source": [
    "<span style='font-size:40px; color:green'>3 - Standard Deviation</span> </br>\n",
    "Standard deviation is a number that describes how spread out the values are.\n",
    "\n",
    "A low standard deviation means that most of the numbers are close to the mean (average) value.\n",
    "\n",
    "A high standard deviation means that the values are spread out over a wider range."
   ]
  },
  {
   "cell_type": "code",
   "execution_count": 5,
   "metadata": {},
   "outputs": [
    {
     "name": "stdout",
     "output_type": "stream",
     "text": [
      "The sd is small 0.90.\n",
      "Which mean the all values are within a range of 0.90 max\n",
      "From mean value which is : 86.43\n"
     ]
    }
   ],
   "source": [
    "speed = [86,87,88,86,87,85,86]\n",
    "\n",
    "x = np.std(speed)\n",
    "y = np.mean(speed)\n",
    "\n",
    "print(f'The sd is small {x:.2f}.\\nWhich mean the all values are within a range of {x:.2f} max\\nFrom mean value which is : {y:.2f}')\n"
   ]
  },
  {
   "cell_type": "markdown",
   "metadata": {},
   "source": [
    "<span style='font-size:40px; color:green'>4 - Variance</span> </br>\n",
    "Variance is another number that indicates how spread out the values are.\n",
    "\n",
    "In fact, if you take the square root of the variance, you get the standard deviation!\n",
    "\n",
    "Or the other way around, if you multiply the standard deviation by itself, you get the variance!"
   ]
  },
  {
   "cell_type": "code",
   "execution_count": 6,
   "metadata": {},
   "outputs": [
    {
     "name": "stdout",
     "output_type": "stream",
     "text": [
      "the standard deviation is square root of Variance : 0.82\n",
      "the Variance is square of standard deviation : 0.90\n"
     ]
    }
   ],
   "source": [
    "z = np.var(speed)\n",
    "print(f'the standard deviation is square root of Variance : {z:.2f}')\n",
    "print(f'the Variance is square of standard deviation : {x:.2f}')"
   ]
  },
  {
   "cell_type": "markdown",
   "metadata": {},
   "source": [
    "Standard Deviation: σ\n",
    "\n",
    "Variance: σ2 "
   ]
  },
  {
   "cell_type": "markdown",
   "metadata": {},
   "source": [
    "<span style='font-size:40px; color:green'>6 - Percentiles or quantiles</span> </br>\n"
   ]
  },
  {
   "cell_type": "markdown",
   "metadata": {},
   "source": [
    "Percentiles are used in statistics to give you a number that describes the value that a given percent of the values are lower than.\n",
    "\n",
    "in numpy we use the method name <span style='color: #3498db'>.percentile(value)</span> while in pandas we use <span style='color: #3498db'>.quantile(value)</span>"
   ]
  },
  {
   "cell_type": "code",
   "execution_count": 7,
   "metadata": {},
   "outputs": [
    {
     "name": "stdout",
     "output_type": "stream",
     "text": [
      "43.0\n",
      "43.0\n"
     ]
    }
   ],
   "source": [
    "ages = [5,31,43,48,50,41,7,11,15,39,80,82,32,2,8,6,25,36,27,61,31]\n",
    "x = np.percentile(ages, 75)\n",
    "\n",
    "ages2 = pd.Series([5,31,43,48,50,41,7,11,15,39,80,82,32,2,8,6,25,36,27,61,31]) #Pandas Serie\n",
    "quantile_val = ages2.quantile(0.75)\n",
    "\n",
    "print(x)\n",
    "print(quantile_val)"
   ]
  },
  {
   "cell_type": "markdown",
   "metadata": {},
   "source": [
    "What is the 75. percentile? The answer is 43, meaning that 75% of the people are 43 or younger."
   ]
  },
  {
   "cell_type": "markdown",
   "metadata": {},
   "source": [
    "<span style='font-size:40px; color:green'>7 - Data distribution</span> </br>\n"
   ]
  },
  {
   "cell_type": "code",
   "execution_count": 8,
   "metadata": {},
   "outputs": [
    {
     "name": "stdout",
     "output_type": "stream",
     "text": [
      "[2.86834211 4.10255154 3.09213869 3.57762901 0.49671669 0.40669309\n",
      " 0.55438862 0.08345031 2.23927972 2.223072   3.71830423 4.39659639\n",
      " 1.71821311 3.0786576  4.22751385 0.08703779 1.31114272 2.6338997\n",
      " 1.19169689 1.34657402 1.3293579  1.93916961 3.3739545  0.26344062\n",
      " 0.29988683 2.05117141 0.52783818 3.29375012 0.45399024 0.09736199\n",
      " 3.29472536 1.93305948 1.48395227 1.32079894 1.87079235 0.34451477\n",
      " 1.66543403 0.20031954 1.17160395 0.87181488 4.4161608  2.13820353\n",
      " 0.34776812 2.58387524 0.92516438 2.10428465 4.17074617 2.31659842\n",
      " 1.70633746 2.46793572 1.17417446 2.23783987 3.50821147 4.26222895\n",
      " 1.99911902 3.31549776 0.88586715 0.09217899 2.00696698 4.71757103\n",
      " 2.95217612 4.5828077  2.66324172 3.41937991 3.9474047  4.29626184\n",
      " 4.26672819 4.08476515 4.87564802 3.67752602 3.37155464 4.24092069\n",
      " 4.12826504 4.4336537  3.57005722 3.66285183 1.86404858 3.33452711\n",
      " 0.0094601  1.57219098 2.82030942 2.52244229 0.26090839 1.23224137\n",
      " 3.24913541 1.25385334 1.33903833 0.47069038 4.85713608 1.15166226\n",
      " 2.94868066 3.83408563 2.98641498 2.75709085 1.4794821  2.88934428\n",
      " 0.3459736  0.77436512 4.9343092  3.32220343 3.99937235 0.7234868\n",
      " 3.06785464 1.4970758  0.8091098  4.26412274 2.4415701  3.60190076\n",
      " 4.78548788 4.66545351 4.75867333 1.00371969 1.47498767 4.83590022\n",
      " 3.29486869 1.74946516 0.46668074 2.29047958 3.43251685 0.8616459\n",
      " 2.29893739 2.52619801 2.70374392 1.08241962 2.29297802 4.82521288\n",
      " 4.36764124 3.55073883 0.8713047  1.41375778 3.41831252 3.14993326\n",
      " 2.96224279 0.49233352 1.43336873 0.0695753  2.7093233  3.05573199\n",
      " 0.17288326 2.03504922 1.70041175 3.55213529 2.60248029 1.3189802\n",
      " 3.63144493 1.95774944 3.54331913 3.07715908 3.19000448 3.40600932\n",
      " 2.39406064 4.96601063 1.18213888 1.34280695 2.58711596 1.09632067\n",
      " 4.85798767 3.71586711 4.94202264 1.64195853 3.76624064 2.34523691\n",
      " 2.63559817 2.92112919 3.81673408 3.03016355 2.35897852 2.5114654\n",
      " 1.49064832 1.5540417  1.01462172 0.24783021 3.07646421 2.07747667\n",
      " 2.2777032  2.25296825 0.27487222 2.03156984 0.29435061 3.73613866\n",
      " 0.50435611 0.03226487 1.91902447 3.30755855 1.37318639 3.63633043\n",
      " 0.66237014 4.66126628 4.07583696 2.551919   1.1113984  0.64426672\n",
      " 0.70943985 4.48684149 0.01790427 1.08411291 4.51121639 3.82656558\n",
      " 1.54598244 1.08866161 1.04296162 2.20597713 4.36753888 4.60041457\n",
      " 1.16347814 3.19250951 3.06056919 4.99740234 1.72475169 2.08767813\n",
      " 2.61231619 2.04134243 0.28141749 1.3149134  1.40282136 2.91142821\n",
      " 4.51662488 3.35039603 1.02351507 4.98873905 3.44427071 4.59636938\n",
      " 2.50108388 0.34783846 0.15020035 1.84331206 2.58784014 0.01080336\n",
      " 0.92754143 2.81711492 0.99667293 3.04548729 4.73404601 2.74902332\n",
      " 0.92298178 3.87210564 1.89384627 1.91640263 3.62705519 0.94372525\n",
      " 2.38763647 2.70968103 0.93949616 2.05039458 2.61787324 0.28742672\n",
      " 2.50083703 1.80550285 3.06403298 4.89008091]\n"
     ]
    }
   ],
   "source": [
    "# Create an array containing 250 random floats between 0 and 5:\n",
    "\n",
    "x = np.random.uniform(0.0, 5.0, 250)\n",
    "\n",
    "print(x) "
   ]
  },
  {
   "cell_type": "code",
   "execution_count": 9,
   "metadata": {},
   "outputs": [
    {
     "data": {
      "image/png": "[encoded data removed]",
      "text/plain": [
       "<Figure size 640x480 with 1 Axes>"
      ]
     },
     "metadata": {},
     "output_type": "display_data"
    }
   ],
   "source": [
    "# how much data is generated between ech number from 0 to 5\n",
    "plt.hist(x, 5)\n",
    "plt.show() "
   ]
  },
  {
   "cell_type": "markdown",
   "metadata": {},
   "source": [
    "#### - loc: Represents the mean or center value of the distribution.\n",
    "\n",
    "#### - scale: Indicates the standard deviation, which measures the spread or dispersion of the data points around the mean. It provides a sense of how much most of the data points deviate from the mean.\n",
    "\n",
    "#### - size: Specifies the number of random samples to generate from the distribution."
   ]
  },
  {
   "cell_type": "code",
   "execution_count": 10,
   "metadata": {},
   "outputs": [
    {
     "data": {
      "image/png": "[encoded data removed]",
      "text/plain": [
       "<Figure size 640x480 with 1 Axes>"
      ]
     },
     "metadata": {},
     "output_type": "display_data"
    }
   ],
   "source": [
    "# Generate random data\n",
    "data = np.random.normal(loc=0, scale=1, size=1000)\n",
    "\n",
    "# Create a histogram \n",
    "#data is x axis bins is num of bars\n",
    "plt.hist(data, bins=20, color='skyblue', edgecolor='black')\n",
    "\n",
    "# Add labels and title\n",
    "plt.xlabel('Value')\n",
    "plt.ylabel('Frequency')\n",
    "plt.title('Histogram of Random Data')\n",
    "\n",
    "# Show the plot\n",
    "plt.show()\n"
   ]
  },
  {
   "cell_type": "markdown",
   "metadata": {},
   "source": [
    "<span style='font-size:40px; color:green'>8 - Normal data distribution</span> </br>\n"
   ]
  },
  {
   "cell_type": "markdown",
   "metadata": {},
   "source": [
    "#### - create an array where the values are concentrated around a given value.\n",
    "\n",
    "#### - the normal data distribution, or the Gaussian data distribution, after the mathematician Carl Friedrich Gauss who came up with the formula of this data distribution."
   ]
  },
  {
   "cell_type": "code",
   "execution_count": 11,
   "metadata": {},
   "outputs": [
    {
     "data": {
      "image/png": "[encoded data removed]",
      "text/plain": [
       "<Figure size 640x480 with 1 Axes>"
      ]
     },
     "metadata": {},
     "output_type": "display_data"
    }
   ],
   "source": [
    "x = np.random.normal(5.0,1.0,100000)\n",
    "# 5.0 = mean , 1.0 = sd , 100 000 size\n",
    "plt.hist(x,100)\n",
    "#most vals are beyween 6 and 4 bcz the sd = 1\n",
    "plt.axvline(x=4, color='red', linestyle='--')\n",
    "plt.axvline(x=6, color='red', linestyle='--')\n",
    "\n",
    "plt.show()"
   ]
  },
  {
   "cell_type": "code",
   "execution_count": 12,
   "metadata": {},
   "outputs": [
    {
     "data": {
      "image/png": "[encoded data removed]",
      "text/plain": [
       "<Figure size 640x480 with 1 Axes>"
      ]
     },
     "metadata": {},
     "output_type": "display_data"
    }
   ],
   "source": [
    "#scatter\n",
    "x = [5,7,8,7,2,17,2,9,4,11,12,9,6]\n",
    "\n",
    "y = [99,86,87,88,111,86,103,87,94,78,77,85,86]\n",
    "plt.scatter(x,y)\n",
    "plt.xlabel('age of car')\n",
    "plt.ylabel('speed of car')\n",
    "plt.show()"
   ]
  },
  {
   "cell_type": "markdown",
   "metadata": {},
   "source": [
    "<span style='font-size:40px; color:green'>9 - Random data distribution</span> </br>\n"
   ]
  },
  {
   "cell_type": "code",
   "execution_count": 13,
   "metadata": {},
   "outputs": [
    {
     "data": {
      "image/png": "[encoded data removed]",
      "text/plain": [
       "<Figure size 640x480 with 1 Axes>"
      ]
     },
     "metadata": {},
     "output_type": "display_data"
    }
   ],
   "source": [
    "x = np.random.normal(5.0, 1.0, 1000)\n",
    "y = np.random.normal(10.0, 2.0, 1000)\n",
    "\n",
    "plt.scatter(x, y)\n",
    "#plt.yticks expect an array so i fucking gave him an array with range 0 to 17 excluded\n",
    "plt.yticks(np.arange(0,17,step=1))\n",
    "plt.show()\n",
    "\n",
    "#We can see that the dots are concentrated around the value 5 on the x-axis, and 10 on the y-axis."
   ]
  },
  {
   "cell_type": "markdown",
   "metadata": {},
   "source": [
    "<span style='color:green; font-size:40px'>10 - Linear regression</span>"
   ]
  },
  {
   "cell_type": "markdown",
   "metadata": {},
   "source": [
    "<ul>\n",
    "    <li>Python has methods for finding a relationship between data-points and to draw a line of linear regression. We will show you how to use these methods instead of going through the mathematic formula.\n",
    "    </li>\n",
    "    <li>In the example below, the x-axis represents age, and the y-axis represents speed. We have registered the age and speed of 13 cars as they were passing a tollbooth. Let us see if the data we collected could be used in a linear regression:\n",
    "    </li>\n",
    "</ul>"
   ]
  },
  {
   "cell_type": "code",
   "execution_count": 14,
   "metadata": {},
   "outputs": [
    {
     "data": {
      "image/png": "[encoded data removed]",
      "text/plain": [
       "<Figure size 640x480 with 1 Axes>"
      ]
     },
     "metadata": {},
     "output_type": "display_data"
    }
   ],
   "source": [
    "x = [5,7,8,7,2,17,2,9,4,11,12,9,6]\n",
    "y = [99,86,87,88,111,86,103,87,94,78,77,85,86]\n",
    "\n",
    "plt.scatter(x,y)\n",
    "plt.show()"
   ]
  },
  {
   "cell_type": "markdown",
   "metadata": {},
   "source": [
    "<span style='color:green; font-size:40px'>10.1 - Linear regression params</span>"
   ]
  },
  {
   "cell_type": "markdown",
   "metadata": {},
   "source": [
    "<ul>\n",
    "    <li><span style='color:#cb4335'>slope, intercept, r, p, std_err = stats.linregress(x, y)</span>\n",
    "    </li>\n",
    "    <li><span style='color:#cb4335'>slope</span> = la pente\n",
    "    </li>\n",
    "    <li>intercep = y when x=0\n",
    "    </li>\n",
    "    <li><span style='color:#cb4335'>r</span> is : correlation coefficient (Pearson's r) between x and y, indicating the strength and direction of the linear relationship between the variables. It ranges from -1 to 1, where:\n",
    "    <ul><li><span style='color:#cb4335'>1</span> indicates a perfect positive linear relationship, both x & y increases </li>\n",
    "    <li><span style='color:#cb4335'>-1</span> indicates a perfect negative linear relationship, y increses while x decreses </li>\n",
    "    <li><span style='color:#cb4335'>0</span> indicates no linear relationship </li>\n",
    "    </ul>\n",
    "    </li><span style='color:#cb4335'>p</span> \n",
    "    represents the probability of observing the data given that the null hypothesis is true. The null hypothesis typically states that there is no relationship between the independent variable(s) and the dependent variable\n",
    "        <ul>\n",
    "            <li>If the p-value is very small (typically less than 0.05 or 0.01), it suggests strong evidence against the null hypothesis. In other words, it indicates that there is a statistically significant relationship between the independent variable(s) and the dependent variable.</li>\n",
    "            <li>If the p-value is large (greater than 0.05 or 0.01), it suggests weak evidence against the null hypothesis. In this case, you may not have enough evidence to reject the null hypothesis, and it implies that there may not be a significant relationship between the independent variable(s) and the dependent variable.</li>\n",
    "            <li>Significance Level (α): This is the threshold used to determine whether the p-value is considered small enough to reject the null hypothesis. Commonly used significance levels include 0.05 (5%) and 0.01 (1%).\n",
    "            </li>\n",
    "        </ul>\n",
    "    <li><span style='color:#cb4335'>std_err :</span> The standard error of the estimated gradient of the regression line, which represents the average deviation of the observed values from the predicted values.\n",
    "    </li>\n",
    "</ul>"
   ]
  },
  {
   "cell_type": "markdown",
   "metadata": {},
   "source": [
    "<span style='color:green; font-size:40px'>10.2 - ploting the relation line</span>"
   ]
  },
  {
   "cell_type": "code",
   "execution_count": 15,
   "metadata": {},
   "outputs": [
    {
     "name": "stdout",
     "output_type": "stream",
     "text": [
      "1 and -1 mean perfect relation 0 is no relation r = -0.758591524376155\n"
     ]
    },
    {
     "data": {
      "image/png": "[encoded data removed]",
      "text/plain": [
       "<Figure size 640x480 with 1 Axes>"
      ]
     },
     "metadata": {},
     "output_type": "display_data"
    }
   ],
   "source": [
    "slope, intercept, r, p, std_err = stats.linregress(x, y)\n",
    "\n",
    "def myfunc(x):\n",
    "  return slope * x + intercept # y = a x + b\n",
    "\n",
    "mymodel = list(map(myfunc, x)) # converting map object to list\n",
    "\n",
    "#test the relation r\n",
    "print(f'1 and -1 mean perfect relation 0 is no relation r = {r}')\n",
    "\n",
    "plt.scatter(x,y)\n",
    "plt.plot(x,mymodel)\n",
    "plt.show()"
   ]
  },
  {
   "cell_type": "markdown",
   "metadata": {},
   "source": [
    "<span style='color:green; font-size:40px'>10.3 - Predict future values</span>"
   ]
  },
  {
   "cell_type": "code",
   "execution_count": 16,
   "metadata": {},
   "outputs": [
    {
     "name": "stdout",
     "output_type": "stream",
     "text": [
      "85.59308314937454\n",
      "68.08020603384843\n"
     ]
    }
   ],
   "source": [
    "speed = myfunc(10) #predicting speed of 10 years car\n",
    "speed2 = myfunc(20) #predicting speed of 20 years car\n",
    "print(speed)\n",
    "print(speed2)"
   ]
  },
  {
   "cell_type": "markdown",
   "metadata": {},
   "source": [
    "<img src=\"Screenshot 2024-04-14 002645.png\">"
   ]
  },
  {
   "cell_type": "markdown",
   "metadata": {},
   "source": [
    "<span style='color:green; font-size:40px'>10.4 - Bad fit ?</span>"
   ]
  },
  {
   "cell_type": "code",
   "execution_count": 17,
   "metadata": {},
   "outputs": [
    {
     "name": "stdout",
     "output_type": "stream",
     "text": [
      "here r is almost 0 r = 0.01331814154297491\n",
      "r = 0.013 indicates a very bad relationship, so this dataset is not suitable for linear regression.\n"
     ]
    },
    {
     "data": {
      "image/png": "[encoded data removed]",
      "text/plain": [
       "<Figure size 640x480 with 1 Axes>"
      ]
     },
     "metadata": {},
     "output_type": "display_data"
    }
   ],
   "source": [
    "x = [89,43,36,36,95,10,66,34,38,20,26,29,48,64,6,5,36,66,72,40]\n",
    "y = [21,46,3,35,67,95,53,72,58,10,26,34,90,33,38,20,56,2,47,15]\n",
    "\n",
    "slope, intercept, r, p, err_std = stats.linregress(x,y)\n",
    "def myfunc(x):\n",
    "    return slope * x + intercept\n",
    "\n",
    "mymodel = list(map(myfunc,x))\n",
    "print(f'here r is almost 0 r = {r}\\nr = 0.013 indicates a very bad relationship, so this dataset is not suitable for linear regression.') \n",
    "\n",
    "plt.scatter(x,y)\n",
    "plt.plot(x,mymodel)\n",
    "plt.show()"
   ]
  },
  {
   "cell_type": "markdown",
   "metadata": {},
   "source": [
    "<span style='color:green; font-size:40px'>11 - Polynomial regression </span>"
   ]
  },
  {
   "cell_type": "markdown",
   "metadata": {},
   "source": [
    "<img src=\"Polynomial regression.png\">"
   ]
  },
  {
   "cell_type": "markdown",
   "metadata": {},
   "source": [
    "<span style='color:green; font-size:40px'>11.1 - ploting the data points </span>"
   ]
  },
  {
   "cell_type": "code",
   "execution_count": 18,
   "metadata": {},
   "outputs": [
    {
     "data": {
      "image/png": "[encoded data removed]",
      "text/plain": [
       "<Figure size 640x480 with 1 Axes>"
      ]
     },
     "metadata": {},
     "output_type": "display_data"
    }
   ],
   "source": [
    "x = [1,2,3,5,6,7,8,9,10,12,13,14,15,16,18,19,21,22]\n",
    "y = [100,90,80,60,60,55,60,65,70,70,75,76,78,79,90,99,99,100]\n",
    "\n",
    "plt.scatter(x, y)\n",
    "plt.show() "
   ]
  },
  {
   "cell_type": "markdown",
   "metadata": {},
   "source": [
    "<span style='color:green; font-size:40px'>11.2 - numpy method for polynomial model </span>"
   ]
  },
  {
   "cell_type": "markdown",
   "metadata": {},
   "source": [
    "    numpy.polyfit(x, y, 3): This function fits a polynomial of degree 3 (a cubic polynomial) to the data points (x, y). It calculates the coefficients of the polynomial that best fits the data using the method of least squares.\n",
    "\n",
    "    numpy.poly1d(...): This function creates a one-dimensional polynomial class instance from the coefficients obtained from polyfit. It allows you to easily evaluate the polynomial at different points."
   ]
  },
  {
   "cell_type": "code",
   "execution_count": 19,
   "metadata": {},
   "outputs": [],
   "source": [
    "mymodel = np.poly1d(np.polyfit(x, y, 3))"
   ]
  },
  {
   "cell_type": "markdown",
   "metadata": {},
   "source": [
    "<span style='color:green; font-size:40px'>11.3 - ploting the relation line </span>"
   ]
  },
  {
   "cell_type": "code",
   "execution_count": 20,
   "metadata": {},
   "outputs": [],
   "source": [
    "myline = np.linspace(1, 22, 100) "
   ]
  },
  {
   "cell_type": "markdown",
   "metadata": {},
   "source": [
    "<span style='color:green; font-size:40px'>11.4 - scatter plot </span>"
   ]
  },
  {
   "cell_type": "code",
   "execution_count": 21,
   "metadata": {},
   "outputs": [
    {
     "data": {
      "image/png": "[encoded data removed]",
      "text/plain": [
       "<Figure size 640x480 with 1 Axes>"
      ]
     },
     "metadata": {},
     "output_type": "display_data"
    }
   ],
   "source": [
    "plt.scatter(x, y)\n",
    "plt.plot(myline, mymodel(myline))\n",
    "plt.show() "
   ]
  },
  {
   "cell_type": "markdown",
   "metadata": {},
   "source": [
    "<span style='color:green; font-size:40px'>11.5 - R-Squared </span>\n",
    "- The r-squared value ranges from 0 to 1, where 0 means no relationship, and 1 means 100% related.\n",
    "- Python and the Sklearn module will compute this value for you, all you have to do is feed it with the x and y arrays:\n",
    "- The result 0.94 shows that there is a very good relationship, and we can use polynomial regression in future predictions."
   ]
  },
  {
   "cell_type": "code",
   "execution_count": 22,
   "metadata": {},
   "outputs": [
    {
     "name": "stdout",
     "output_type": "stream",
     "text": [
      "0.9432150416451026\n"
     ]
    }
   ],
   "source": [
    "x = [1,2,3,5,6,7,8,9,10,12,13,14,15,16,18,19,21,22]\n",
    "y = [100,90,80,60,60,55,60,65,70,70,75,76,78,79,90,99,99,100]\n",
    "\n",
    "mymodel = np.poly1d(np.polyfit(x, y, 3))\n",
    "\n",
    "print(r2_score(y, mymodel(x))) "
   ]
  },
  {
   "cell_type": "markdown",
   "metadata": {},
   "source": [
    "<span style='color:green; font-size:40px'>11.6 - Predict future values </span>"
   ]
  },
  {
   "cell_type": "code",
   "execution_count": 23,
   "metadata": {},
   "outputs": [
    {
     "name": "stdout",
     "output_type": "stream",
     "text": [
      "88.87331269698001\n"
     ]
    }
   ],
   "source": [
    "speed = mymodel(17)\n",
    "print(speed) "
   ]
  },
  {
   "cell_type": "markdown",
   "metadata": {},
   "source": [
    "<img src=\"Polynomial regression_predict.png\">"
   ]
  },
  {
   "cell_type": "markdown",
   "metadata": {},
   "source": [
    "<span style='color:green; font-size:40px'>11.7 - Bad fit ?</span>"
   ]
  },
  {
   "cell_type": "code",
   "execution_count": 24,
   "metadata": {},
   "outputs": [
    {
     "data": {
      "image/png": "[encoded data removed]",
      "text/plain": [
       "<Figure size 640x480 with 1 Axes>"
      ]
     },
     "metadata": {},
     "output_type": "display_data"
    }
   ],
   "source": [
    "x = [89,43,36,36,95,10,66,34,38,20,26,29,48,64,6,5,36,66,72,40]\n",
    "y = [21,46,3,35,67,95,53,72,58,10,26,34,90,33,38,20,56,2,47,15]\n",
    "\n",
    "mymodel = np.poly1d(np.polyfit(x,y,3))\n",
    "\n",
    "myline = np.linspace(1,100,100)\n",
    "\n",
    "plt.scatter(x, y)\n",
    "plt.plot(myline, mymodel(myline))\n",
    "plt.show() \n"
   ]
  },
  {
   "cell_type": "code",
   "execution_count": 25,
   "metadata": {},
   "outputs": [
    {
     "name": "stdout",
     "output_type": "stream",
     "text": [
      "0.009952707566680652\n"
     ]
    }
   ],
   "source": [
    "mymodel = np.poly1d(np.polyfit(x, y, 3))\n",
    "\n",
    "print(r2_score(y, mymodel(x)))"
   ]
  },
  {
   "cell_type": "markdown",
   "metadata": {},
   "source": [
    "- The result: 0.00995 indicates a very bad relationship, and tells us that this data set is not suitable for polynomial regression."
   ]
  },
  {
   "cell_type": "markdown",
   "metadata": {},
   "source": [
    "<span style='color:green; font-size:40px'>12 - Multiple Regression </span>"
   ]
  },
  {
   "cell_type": "markdown",
   "metadata": {},
   "source": [
    " - Multiple regression is like linear regression, but with more than one independent value, meaning that we try to predict a value based on two or more variables."
   ]
  },
  {
   "cell_type": "markdown",
   "metadata": {},
   "source": [
    "<img src=\"Multiple Regression1.png\">"
   ]
  },
  {
   "cell_type": "markdown",
   "metadata": {},
   "source": [
    "- understanding the terminology :\n",
    "<img src=\"Multiple Regression2.jpg\">"
   ]
  },
  {
   "cell_type": "markdown",
   "metadata": {},
   "source": [
    "- The Pandas module allows us to read csv files and return a DataFrame object."
   ]
  },
  {
   "cell_type": "code",
   "execution_count": 26,
   "metadata": {},
   "outputs": [],
   "source": [
    "df = pd.read_csv(\"cars_data.csv\")"
   ]
  },
  {
   "cell_type": "markdown",
   "metadata": {},
   "source": [
    "- Then make a list of the independent values and call this variable X.\n",
    "\n",
    "- Put the dependent values in a variable called y."
   ]
  },
  {
   "cell_type": "code",
   "execution_count": 27,
   "metadata": {},
   "outputs": [],
   "source": [
    "# so we have 2 independants vals Weight & Volume\n",
    "# that will help us predict the dependant val CO2\n",
    "\n",
    "X = df[['Weight', 'Volume']]\n",
    "y = df['CO2']\n",
    "\n",
    "# Tip: It is common to name the list of independent values with a upper case X,\n",
    "# and the list of dependent values with a lower case y."
   ]
  },
  {
   "cell_type": "markdown",
   "metadata": {},
   "source": [
    "- From the sklearn module we will use the LinearRegression() method to create a linear regression object.\n",
    "\n",
    "- This object has a method called fit() that takes the independent and dependent values as parameters and fills the regression object with data that describes the relationship:"
   ]
  },
  {
   "cell_type": "code",
   "execution_count": 28,
   "metadata": {},
   "outputs": [
    {
     "data": {
      "text/html": [
       "<style>#sk-container-id-1 {\n",
       "  /* Definition of color scheme common for light and dark mode */\n",
       "  --sklearn-color-text: black;\n",
       "  --sklearn-color-line: gray;\n",
       "  /* Definition of color scheme for unfitted estimators */\n",
       "  --sklearn-color-unfitted-level-0: #fff5e6;\n",
       "  --sklearn-color-unfitted-level-1: #f6e4d2;\n",
       "  --sklearn-color-unfitted-level-2: #ffe0b3;\n",
       "  --sklearn-color-unfitted-level-3: chocolate;\n",
       "  /* Definition of color scheme for fitted estimators */\n",
       "  --sklearn-color-fitted-level-0: #f0f8ff;\n",
       "  --sklearn-color-fitted-level-1: #d4ebff;\n",
       "  --sklearn-color-fitted-level-2: #b3dbfd;\n",
       "  --sklearn-color-fitted-level-3: cornflowerblue;\n",
       "\n",
       "  /* Specific color for light theme */\n",
       "  --sklearn-color-text-on-default-background: var(--sg-text-color, var(--theme-code-foreground, var(--jp-content-font-color1, black)));\n",
       "  --sklearn-color-background: var(--sg-background-color, var(--theme-background, var(--jp-layout-color0, white)));\n",
       "  --sklearn-color-border-box: var(--sg-text-color, var(--theme-code-foreground, var(--jp-content-font-color1, black)));\n",
       "  --sklearn-color-icon: #696969;\n",
       "\n",
       "  @media (prefers-color-scheme: dark) {\n",
       "    /* Redefinition of color scheme for dark theme */\n",
       "    --sklearn-color-text-on-default-background: var(--sg-text-color, var(--theme-code-foreground, var(--jp-content-font-color1, white)));\n",
       "    --sklearn-color-background: var(--sg-background-color, var(--theme-background, var(--jp-layout-color0, #111)));\n",
       "    --sklearn-color-border-box: var(--sg-text-color, var(--theme-code-foreground, var(--jp-content-font-color1, white)));\n",
       "    --sklearn-color-icon: #878787;\n",
       "  }\n",
       "}\n",
       "\n",
       "#sk-container-id-1 {\n",
       "  color: var(--sklearn-color-text);\n",
       "}\n",
       "\n",
       "#sk-container-id-1 pre {\n",
       "  padding: 0;\n",
       "}\n",
       "\n",
       "#sk-container-id-1 input.sk-hidden--visually {\n",
       "  border: 0;\n",
       "  clip: rect(1px 1px 1px 1px);\n",
       "  clip: rect(1px, 1px, 1px, 1px);\n",
       "  height: 1px;\n",
       "  margin: -1px;\n",
       "  overflow: hidden;\n",
       "  padding: 0;\n",
       "  position: absolute;\n",
       "  width: 1px;\n",
       "}\n",
       "\n",
       "#sk-container-id-1 div.sk-dashed-wrapped {\n",
       "  border: 1px dashed var(--sklearn-color-line);\n",
       "  margin: 0 0.4em 0.5em 0.4em;\n",
       "  box-sizing: border-box;\n",
       "  padding-bottom: 0.4em;\n",
       "  background-color: var(--sklearn-color-background);\n",
       "}\n",
       "\n",
       "#sk-container-id-1 div.sk-container {\n",
       "  /* jupyter's `normalize.less` sets `[hidden] { display: none; }`\n",
       "     but bootstrap.min.css set `[hidden] { display: none !important; }`\n",
       "     so we also need the `!important` here to be able to override the\n",
       "     default hidden behavior on the sphinx rendered scikit-learn.org.\n",
       "     See: https://github.com/scikit-learn/scikit-learn/issues/21755 */\n",
       "  display: inline-block !important;\n",
       "  position: relative;\n",
       "}\n",
       "\n",
       "#sk-container-id-1 div.sk-text-repr-fallback {\n",
       "  display: none;\n",
       "}\n",
       "\n",
       "div.sk-parallel-item,\n",
       "div.sk-serial,\n",
       "div.sk-item {\n",
       "  /* draw centered vertical line to link estimators */\n",
       "  background-image: linear-gradient(var(--sklearn-color-text-on-default-background), var(--sklearn-color-text-on-default-background));\n",
       "  background-size: 2px 100%;\n",
       "  background-repeat: no-repeat;\n",
       "  background-position: center center;\n",
       "}\n",
       "\n",
       "/* Parallel-specific style estimator block */\n",
       "\n",
       "#sk-container-id-1 div.sk-parallel-item::after {\n",
       "  content: \"\";\n",
       "  width: 100%;\n",
       "  border-bottom: 2px solid var(--sklearn-color-text-on-default-background);\n",
       "  flex-grow: 1;\n",
       "}\n",
       "\n",
       "#sk-container-id-1 div.sk-parallel {\n",
       "  display: flex;\n",
       "  align-items: stretch;\n",
       "  justify-content: center;\n",
       "  background-color: var(--sklearn-color-background);\n",
       "  position: relative;\n",
       "}\n",
       "\n",
       "#sk-container-id-1 div.sk-parallel-item {\n",
       "  display: flex;\n",
       "  flex-direction: column;\n",
       "}\n",
       "\n",
       "#sk-container-id-1 div.sk-parallel-item:first-child::after {\n",
       "  align-self: flex-end;\n",
       "  width: 50%;\n",
       "}\n",
       "\n",
       "#sk-container-id-1 div.sk-parallel-item:last-child::after {\n",
       "  align-self: flex-start;\n",
       "  width: 50%;\n",
       "}\n",
       "\n",
       "#sk-container-id-1 div.sk-parallel-item:only-child::after {\n",
       "  width: 0;\n",
       "}\n",
       "\n",
       "/* Serial-specific style estimator block */\n",
       "\n",
       "#sk-container-id-1 div.sk-serial {\n",
       "  display: flex;\n",
       "  flex-direction: column;\n",
       "  align-items: center;\n",
       "  background-color: var(--sklearn-color-background);\n",
       "  padding-right: 1em;\n",
       "  padding-left: 1em;\n",
       "}\n",
       "\n",
       "\n",
       "/* Toggleable style: style used for estimator/Pipeline/ColumnTransformer box that is\n",
       "clickable and can be expanded/collapsed.\n",
       "- Pipeline and ColumnTransformer use this feature and define the default style\n",
       "- Estimators will overwrite some part of the style using the `sk-estimator` class\n",
       "*/\n",
       "\n",
       "/* Pipeline and ColumnTransformer style (default) */\n",
       "\n",
       "#sk-container-id-1 div.sk-toggleable {\n",
       "  /* Default theme specific background. It is overwritten whether we have a\n",
       "  specific estimator or a Pipeline/ColumnTransformer */\n",
       "  background-color: var(--sklearn-color-background);\n",
       "}\n",
       "\n",
       "/* Toggleable label */\n",
       "#sk-container-id-1 label.sk-toggleable__label {\n",
       "  cursor: pointer;\n",
       "  display: block;\n",
       "  width: 100%;\n",
       "  margin-bottom: 0;\n",
       "  padding: 0.5em;\n",
       "  box-sizing: border-box;\n",
       "  text-align: center;\n",
       "}\n",
       "\n",
       "#sk-container-id-1 label.sk-toggleable__label-arrow:before {\n",
       "  /* Arrow on the left of the label */\n",
       "  content: \"▸\";\n",
       "  float: left;\n",
       "  margin-right: 0.25em;\n",
       "  color: var(--sklearn-color-icon);\n",
       "}\n",
       "\n",
       "#sk-container-id-1 label.sk-toggleable__label-arrow:hover:before {\n",
       "  color: var(--sklearn-color-text);\n",
       "}\n",
       "\n",
       "/* Toggleable content - dropdown */\n",
       "\n",
       "#sk-container-id-1 div.sk-toggleable__content {\n",
       "  max-height: 0;\n",
       "  max-width: 0;\n",
       "  overflow: hidden;\n",
       "  text-align: left;\n",
       "  /* unfitted */\n",
       "  background-color: var(--sklearn-color-unfitted-level-0);\n",
       "}\n",
       "\n",
       "#sk-container-id-1 div.sk-toggleable__content.fitted {\n",
       "  /* fitted */\n",
       "  background-color: var(--sklearn-color-fitted-level-0);\n",
       "}\n",
       "\n",
       "#sk-container-id-1 div.sk-toggleable__content pre {\n",
       "  margin: 0.2em;\n",
       "  border-radius: 0.25em;\n",
       "  color: var(--sklearn-color-text);\n",
       "  /* unfitted */\n",
       "  background-color: var(--sklearn-color-unfitted-level-0);\n",
       "}\n",
       "\n",
       "#sk-container-id-1 div.sk-toggleable__content.fitted pre {\n",
       "  /* unfitted */\n",
       "  background-color: var(--sklearn-color-fitted-level-0);\n",
       "}\n",
       "\n",
       "#sk-container-id-1 input.sk-toggleable__control:checked~div.sk-toggleable__content {\n",
       "  /* Expand drop-down */\n",
       "  max-height: 200px;\n",
       "  max-width: 100%;\n",
       "  overflow: auto;\n",
       "}\n",
       "\n",
       "#sk-container-id-1 input.sk-toggleable__control:checked~label.sk-toggleable__label-arrow:before {\n",
       "  content: \"▾\";\n",
       "}\n",
       "\n",
       "/* Pipeline/ColumnTransformer-specific style */\n",
       "\n",
       "#sk-container-id-1 div.sk-label input.sk-toggleable__control:checked~label.sk-toggleable__label {\n",
       "  color: var(--sklearn-color-text);\n",
       "  background-color: var(--sklearn-color-unfitted-level-2);\n",
       "}\n",
       "\n",
       "#sk-container-id-1 div.sk-label.fitted input.sk-toggleable__control:checked~label.sk-toggleable__label {\n",
       "  background-color: var(--sklearn-color-fitted-level-2);\n",
       "}\n",
       "\n",
       "/* Estimator-specific style */\n",
       "\n",
       "/* Colorize estimator box */\n",
       "#sk-container-id-1 div.sk-estimator input.sk-toggleable__control:checked~label.sk-toggleable__label {\n",
       "  /* unfitted */\n",
       "  background-color: var(--sklearn-color-unfitted-level-2);\n",
       "}\n",
       "\n",
       "#sk-container-id-1 div.sk-estimator.fitted input.sk-toggleable__control:checked~label.sk-toggleable__label {\n",
       "  /* fitted */\n",
       "  background-color: var(--sklearn-color-fitted-level-2);\n",
       "}\n",
       "\n",
       "#sk-container-id-1 div.sk-label label.sk-toggleable__label,\n",
       "#sk-container-id-1 div.sk-label label {\n",
       "  /* The background is the default theme color */\n",
       "  color: var(--sklearn-color-text-on-default-background);\n",
       "}\n",
       "\n",
       "/* On hover, darken the color of the background */\n",
       "#sk-container-id-1 div.sk-label:hover label.sk-toggleable__label {\n",
       "  color: var(--sklearn-color-text);\n",
       "  background-color: var(--sklearn-color-unfitted-level-2);\n",
       "}\n",
       "\n",
       "/* Label box, darken color on hover, fitted */\n",
       "#sk-container-id-1 div.sk-label.fitted:hover label.sk-toggleable__label.fitted {\n",
       "  color: var(--sklearn-color-text);\n",
       "  background-color: var(--sklearn-color-fitted-level-2);\n",
       "}\n",
       "\n",
       "/* Estimator label */\n",
       "\n",
       "#sk-container-id-1 div.sk-label label {\n",
       "  font-family: monospace;\n",
       "  font-weight: bold;\n",
       "  display: inline-block;\n",
       "  line-height: 1.2em;\n",
       "}\n",
       "\n",
       "#sk-container-id-1 div.sk-label-container {\n",
       "  text-align: center;\n",
       "}\n",
       "\n",
       "/* Estimator-specific */\n",
       "#sk-container-id-1 div.sk-estimator {\n",
       "  font-family: monospace;\n",
       "  border: 1px dotted var(--sklearn-color-border-box);\n",
       "  border-radius: 0.25em;\n",
       "  box-sizing: border-box;\n",
       "  margin-bottom: 0.5em;\n",
       "  /* unfitted */\n",
       "  background-color: var(--sklearn-color-unfitted-level-0);\n",
       "}\n",
       "\n",
       "#sk-container-id-1 div.sk-estimator.fitted {\n",
       "  /* fitted */\n",
       "  background-color: var(--sklearn-color-fitted-level-0);\n",
       "}\n",
       "\n",
       "/* on hover */\n",
       "#sk-container-id-1 div.sk-estimator:hover {\n",
       "  /* unfitted */\n",
       "  background-color: var(--sklearn-color-unfitted-level-2);\n",
       "}\n",
       "\n",
       "#sk-container-id-1 div.sk-estimator.fitted:hover {\n",
       "  /* fitted */\n",
       "  background-color: var(--sklearn-color-fitted-level-2);\n",
       "}\n",
       "\n",
       "/* Specification for estimator info (e.g. \"i\" and \"?\") */\n",
       "\n",
       "/* Common style for \"i\" and \"?\" */\n",
       "\n",
       ".sk-estimator-doc-link,\n",
       "a:link.sk-estimator-doc-link,\n",
       "a:visited.sk-estimator-doc-link {\n",
       "  float: right;\n",
       "  font-size: smaller;\n",
       "  line-height: 1em;\n",
       "  font-family: monospace;\n",
       "  background-color: var(--sklearn-color-background);\n",
       "  border-radius: 1em;\n",
       "  height: 1em;\n",
       "  width: 1em;\n",
       "  text-decoration: none !important;\n",
       "  margin-left: 1ex;\n",
       "  /* unfitted */\n",
       "  border: var(--sklearn-color-unfitted-level-1) 1pt solid;\n",
       "  color: var(--sklearn-color-unfitted-level-1);\n",
       "}\n",
       "\n",
       ".sk-estimator-doc-link.fitted,\n",
       "a:link.sk-estimator-doc-link.fitted,\n",
       "a:visited.sk-estimator-doc-link.fitted {\n",
       "  /* fitted */\n",
       "  border: var(--sklearn-color-fitted-level-1) 1pt solid;\n",
       "  color: var(--sklearn-color-fitted-level-1);\n",
       "}\n",
       "\n",
       "/* On hover */\n",
       "div.sk-estimator:hover .sk-estimator-doc-link:hover,\n",
       ".sk-estimator-doc-link:hover,\n",
       "div.sk-label-container:hover .sk-estimator-doc-link:hover,\n",
       ".sk-estimator-doc-link:hover {\n",
       "  /* unfitted */\n",
       "  background-color: var(--sklearn-color-unfitted-level-3);\n",
       "  color: var(--sklearn-color-background);\n",
       "  text-decoration: none;\n",
       "}\n",
       "\n",
       "div.sk-estimator.fitted:hover .sk-estimator-doc-link.fitted:hover,\n",
       ".sk-estimator-doc-link.fitted:hover,\n",
       "div.sk-label-container:hover .sk-estimator-doc-link.fitted:hover,\n",
       ".sk-estimator-doc-link.fitted:hover {\n",
       "  /* fitted */\n",
       "  background-color: var(--sklearn-color-fitted-level-3);\n",
       "  color: var(--sklearn-color-background);\n",
       "  text-decoration: none;\n",
       "}\n",
       "\n",
       "/* Span, style for the box shown on hovering the info icon */\n",
       ".sk-estimator-doc-link span {\n",
       "  display: none;\n",
       "  z-index: 9999;\n",
       "  position: relative;\n",
       "  font-weight: normal;\n",
       "  right: .2ex;\n",
       "  padding: .5ex;\n",
       "  margin: .5ex;\n",
       "  width: min-content;\n",
       "  min-width: 20ex;\n",
       "  max-width: 50ex;\n",
       "  color: var(--sklearn-color-text);\n",
       "  box-shadow: 2pt 2pt 4pt #999;\n",
       "  /* unfitted */\n",
       "  background: var(--sklearn-color-unfitted-level-0);\n",
       "  border: .5pt solid var(--sklearn-color-unfitted-level-3);\n",
       "}\n",
       "\n",
       ".sk-estimator-doc-link.fitted span {\n",
       "  /* fitted */\n",
       "  background: var(--sklearn-color-fitted-level-0);\n",
       "  border: var(--sklearn-color-fitted-level-3);\n",
       "}\n",
       "\n",
       ".sk-estimator-doc-link:hover span {\n",
       "  display: block;\n",
       "}\n",
       "\n",
       "/* \"?\"-specific style due to the `<a>` HTML tag */\n",
       "\n",
       "#sk-container-id-1 a.estimator_doc_link {\n",
       "  float: right;\n",
       "  font-size: 1rem;\n",
       "  line-height: 1em;\n",
       "  font-family: monospace;\n",
       "  background-color: var(--sklearn-color-background);\n",
       "  border-radius: 1rem;\n",
       "  height: 1rem;\n",
       "  width: 1rem;\n",
       "  text-decoration: none;\n",
       "  /* unfitted */\n",
       "  color: var(--sklearn-color-unfitted-level-1);\n",
       "  border: var(--sklearn-color-unfitted-level-1) 1pt solid;\n",
       "}\n",
       "\n",
       "#sk-container-id-1 a.estimator_doc_link.fitted {\n",
       "  /* fitted */\n",
       "  border: var(--sklearn-color-fitted-level-1) 1pt solid;\n",
       "  color: var(--sklearn-color-fitted-level-1);\n",
       "}\n",
       "\n",
       "/* On hover */\n",
       "#sk-container-id-1 a.estimator_doc_link:hover {\n",
       "  /* unfitted */\n",
       "  background-color: var(--sklearn-color-unfitted-level-3);\n",
       "  color: var(--sklearn-color-background);\n",
       "  text-decoration: none;\n",
       "}\n",
       "\n",
       "#sk-container-id-1 a.estimator_doc_link.fitted:hover {\n",
       "  /* fitted */\n",
       "  background-color: var(--sklearn-color-fitted-level-3);\n",
       "}\n",
       "</style><div id=\"sk-container-id-1\" class=\"sk-top-container\"><div class=\"sk-text-repr-fallback\"><pre>LinearRegression()</pre><b>In a Jupyter environment, please rerun this cell to show the HTML representation or trust the notebook. <br />On GitHub, the HTML representation is unable to render, please try loading this page with nbviewer.org.</b></div><div class=\"sk-container\" hidden><div class=\"sk-item\"><div class=\"sk-estimator fitted sk-toggleable\"><input class=\"sk-toggleable__control sk-hidden--visually\" id=\"sk-estimator-id-1\" type=\"checkbox\" checked><label for=\"sk-estimator-id-1\" class=\"sk-toggleable__label fitted sk-toggleable__label-arrow fitted\">&nbsp;&nbsp;LinearRegression<a class=\"sk-estimator-doc-link fitted\" rel=\"noreferrer\" target=\"_blank\" href=\"https://scikit-learn.org/1.4/modules/generated/sklearn.linear_model.LinearRegression.html\">?<span>Documentation for LinearRegression</span></a><span class=\"sk-estimator-doc-link fitted\">i<span>Fitted</span></span></label><div class=\"sk-toggleable__content fitted\"><pre>LinearRegression()</pre></div> </div></div></div></div>"
      ],
      "text/plain": [
       "LinearRegression()"
      ]
     },
     "execution_count": 28,
     "metadata": {},
     "output_type": "execute_result"
    }
   ],
   "source": [
    "X.columns = ['Weight', 'Volume']\n",
    "regr = linear_model.LinearRegression()\n",
    "regr.fit(X, y)"
   ]
  },
  {
   "cell_type": "markdown",
   "metadata": {},
   "source": [
    "- Now we have a regression object that are ready to predict CO2 values based on a car's weight and volume:"
   ]
  },
  {
   "cell_type": "code",
   "execution_count": 29,
   "metadata": {},
   "outputs": [
    {
     "name": "stdout",
     "output_type": "stream",
     "text": [
      "[107.2087328]\n"
     ]
    },
    {
     "name": "stderr",
     "output_type": "stream",
     "text": [
      "c:\\Program Files\\Python312\\Lib\\site-packages\\sklearn\\base.py:493: UserWarning: X does not have valid feature names, but LinearRegression was fitted with feature names\n",
      "  warnings.warn(\n"
     ]
    }
   ],
   "source": [
    "#predict the CO2 emission of a car where the weight is 2300kg, and the volume is 1300cm3:\n",
    "predictedCO2 = regr.predict([[2300, 1300]])\n",
    "print(predictedCO2)"
   ]
  },
  {
   "cell_type": "code",
   "execution_count": 30,
   "metadata": {},
   "outputs": [
    {
     "name": "stdout",
     "output_type": "stream",
     "text": [
      "[107.2087328]\n"
     ]
    }
   ],
   "source": [
    "# Read the dataset\n",
    "df = pd.read_csv(\"cars_data.csv\")\n",
    "\n",
    "# Define features and target variable\n",
    "X = df[['Weight', 'Volume']].values  # Convert to numpy array\n",
    "y = df['CO2'].values  # Convert to numpy array\n",
    "\n",
    "# Instantiate the linear regression model\n",
    "regr = LinearRegression()\n",
    "\n",
    "# Fit the model\n",
    "regr.fit(X, y)\n",
    "\n",
    "# Predict the CO2 emission of a car where the weight is 2300kg, and the volume is 1300cm3\n",
    "predictedCO2 = regr.predict([[2300, 1300]])\n",
    "\n",
    "print(predictedCO2)\n"
   ]
  },
  {
   "cell_type": "markdown",
   "metadata": {},
   "source": [
    "- we got the correct prediction any way, to get red of the warning, we use a numpy array instead of pandas as scklearn expect the data set to explicitly give features names = col names\n",
    "\n",
    "\n",
    "the error : c:\\Program Files\\Python312\\Lib\\site-packages\\sklearn\\base.py:493: UserWarning: X does not have valid feature names, but LinearRegression was fitted with feature names\n",
    "  warnings.warn("
   ]
  },
  {
   "cell_type": "markdown",
   "metadata": {},
   "source": [
    "- The warning message you were encountering, X does not have valid feature names, but LinearRegression was fitted with feature names, indicates that scikit-learn expected the feature names to be present in the input data. However, in your previous code, you were passing a DataFrame directly to the fit() method of the linear regression model.\n",
    "\n",
    "- The issue arises because scikit-learn's linear regression model internally uses feature names for various purposes, such as printing coefficients or interpreting results. When you pass a DataFrame directly, scikit-learn cannot extract the feature names because it expects a numpy array.\n",
    "\n",
    "- By converting the DataFrame to a numpy array using the values attribute, you provided a data structure that scikit-learn can handle directly. This resolved the warning message and allowed the linear regression model to fit the data successfully."
   ]
  },
  {
   "cell_type": "markdown",
   "metadata": {},
   "source": [
    "<span style='color:green; font-size:40px'>12.1 - Coefficient </span>"
   ]
  },
  {
   "cell_type": "markdown",
   "metadata": {},
   "source": [
    "- Example: if x is a variable, then 2x is x two times. x is the unknown variable, and the number 2 is the coefficient."
   ]
  },
  {
   "cell_type": "markdown",
   "metadata": {},
   "source": [
    "- In this case, we can ask for the coefficient value of weight against CO2, and for volume against CO2. The answer(s) we get tells us what would happen if we increase, or decrease, one of the independent values."
   ]
  },
  {
   "cell_type": "code",
   "execution_count": 32,
   "metadata": {},
   "outputs": [
    {
     "name": "stdout",
     "output_type": "stream",
     "text": [
      "[0.00755095 0.00780526]\n"
     ]
    }
   ],
   "source": [
    "print(regr.coef_)\n",
    "#earlier we made : df = weihgt , volume\n",
    "#so coeff 1 is for weight , and coeff 2 is for volume"
   ]
  },
  {
   "cell_type": "markdown",
   "metadata": {},
   "source": [
    "- The result array represents the coefficient values of weight and volume.\n",
    "\n",
    "Weight: 0.00755095\n",
    "Volume: 0.00780526\n",
    "\n",
    "- These values tell us that if the weight increase by 1kg, the CO2 emission increases by 0.00755095g.\n",
    "\n",
    "And if the engine size (Volume) increases by 1 cm3, the CO2 emission increases by 0.00780526 g.\n",
    "\n",
    "- I think that is a fair guess, but let test it!\n",
    "\n",
    "- We have already predicted that if a car with a 1300cm3 engine weighs 2300kg, the CO2 emission will be approximately 107g.\n",
    "\n",
    "- What if we increase the weight with 1000kg?"
   ]
  },
  {
   "cell_type": "code",
   "execution_count": 33,
   "metadata": {},
   "outputs": [
    {
     "name": "stdout",
     "output_type": "stream",
     "text": [
      "[114.75968007]\n"
     ]
    }
   ],
   "source": [
    "predictedCO2 = regr.predict([[3300, 1300]])\n",
    "\n",
    "print(predictedCO2) "
   ]
  },
  {
   "cell_type": "markdown",
   "metadata": {},
   "source": [
    "-  We have predicted that a car with 1.3 liter engine, and a weight of 3300 kg, will release approximately 115 grams of CO2 for every kilometer it drives.\n",
    "\n",
    "- Which shows that the coefficient of 0.00755095 is correct:\n",
    "\n",
    "- 107.2087328 + (1000 * 0.00755095) = 114.75968"
   ]
  },
  {
   "cell_type": "markdown",
   "metadata": {},
   "source": [
    "<span style='color:green; font-size:40px'>13 - Scale </span>"
   ]
  },
  {
   "cell_type": "markdown",
   "metadata": {},
   "source": [
    "- When your data has different values, and even different measurement units, it can be difficult to compare them. What is kilograms compared to meters? Or altitude compared to time?\n",
    "\n",
    "- The answer to this problem is scaling. We can scale data into new values that are easier to compare.\n",
    "\n",
    "- but this time the volume column contains values in liters instead of cm3 (1.0 instead of 1000)."
   ]
  },
  {
   "cell_type": "markdown",
   "metadata": {},
   "source": [
    "<span style='color:green; font-size:40px'>13.1 - Standardization </span>"
   ]
  },
  {
   "cell_type": "markdown",
   "metadata": {},
   "source": [
    "- It can be difficult to compare the volume 1.0 with the weight 790, but if we scale them both into comparable values, we can easily see how much one value is compared to the other.\n",
    "\n",
    "- There are different methods for scaling data, in this tutorial we will use a method called standardization.\n",
    "\n",
    "- The standardization method uses this formula:\n",
    "\n",
    "- <span style=\"color: #e74c3c \"> z = (x - u) / s </span>"
   ]
  },
  {
   "cell_type": "markdown",
   "metadata": {},
   "source": [
    "- <span style=\"color: #e74c3c \">z </span> is the new value\n",
    "- <span style=\"color: #e74c3c \">x </span> is the original value\n",
    "- <span style=\"color: #e74c3c \">u </span> is the mean\n",
    "- <span style=\"color: #e74c3c \">s </span> is the standard deviation\n"
   ]
  },
  {
   "cell_type": "code",
   "execution_count": 39,
   "metadata": {},
   "outputs": [
    {
     "name": "stdout",
     "output_type": "stream",
     "text": [
      "the mean for feature Weight is : 1292.2777777777778\n",
      "the standard deviation for feature Weight is : 238.73737443185826\n"
     ]
    }
   ],
   "source": [
    "df = pd.read_csv(\"cars_data_standardization.csv\")\n",
    "u = np.mean(df[\"Weight\"])\n",
    "s = np.std(df[\"Weight\"])\n",
    "print(f\"the mean for feature Weight is : {u}\\nthe standard deviation for feature Weight is : {s}\")"
   ]
  },
  {
   "cell_type": "markdown",
   "metadata": {},
   "source": [
    "- If you take the weight column from the data set above, the first value is 790, and the scaled value will be:\n",
    "- <span style=\"color: #e74c3c \">(790 - 1292.23) / 238.74 = -2.1</span>"
   ]
  },
  {
   "cell_type": "code",
   "execution_count": 40,
   "metadata": {},
   "outputs": [
    {
     "name": "stdout",
     "output_type": "stream",
     "text": [
      "the mean for feature Weight is : 1.6111111111111112\n",
      "the standard deviation for feature Weight is : 0.3835345687576268\n"
     ]
    }
   ],
   "source": [
    "u_vol = np.mean(df[\"Volume\"])\n",
    "s_vol = np.std(df[\"Volume\"])\n",
    "print(f\"the mean for feature Weight is : {u_vol}\\nthe standard deviation for feature Weight is : {s_vol}\")"
   ]
  },
  {
   "cell_type": "markdown",
   "metadata": {},
   "source": [
    "- If you take the volume column from the data set above, the first value is 1.0, and the scaled value will be:\n",
    "\n",
    "- <span style=\"color: #e74c3c \">(1.0 - 1.61) / 0.38 = -1.59</span>"
   ]
  },
  {
   "cell_type": "markdown",
   "metadata": {},
   "source": [
    "- Now you can compare -2.1 with -1.59 instead of comparing 790 with 1.0."
   ]
  },
  {
   "cell_type": "markdown",
   "metadata": {},
   "source": [
    "- You do not have to do this manually, the Python sklearn module has a method called StandardScaler() which returns a Scaler object with methods for transforming data sets."
   ]
  },
  {
   "cell_type": "code",
   "execution_count": null,
   "metadata": {},
   "outputs": [],
   "source": [
    "scale = StandardScaler()\n",
    "X = df[['Weight', 'Volume']]\n",
    "scaledX = scale.fit_transform(X)\n",
    "print(scaledX) "
   ]
  },
  {
   "cell_type": "markdown",
   "metadata": {},
   "source": [
    "- Replacing the old vals with the new Scaled values"
   ]
  },
  {
   "cell_type": "code",
   "execution_count": 47,
   "metadata": {},
   "outputs": [
    {
     "data": {
      "text/html": [
       "<div>\n",
       "<style scoped>\n",
       "    .dataframe tbody tr th:only-of-type {\n",
       "        vertical-align: middle;\n",
       "    }\n",
       "\n",
       "    .dataframe tbody tr th {\n",
       "        vertical-align: top;\n",
       "    }\n",
       "\n",
       "    .dataframe thead th {\n",
       "        text-align: right;\n",
       "    }\n",
       "</style>\n",
       "<table border=\"1\" class=\"dataframe\">\n",
       "  <thead>\n",
       "    <tr style=\"text-align: right;\">\n",
       "      <th></th>\n",
       "      <th>Car</th>\n",
       "      <th>Model</th>\n",
       "      <th>Volume</th>\n",
       "      <th>Weight</th>\n",
       "      <th>CO2</th>\n",
       "    </tr>\n",
       "  </thead>\n",
       "  <tbody>\n",
       "    <tr>\n",
       "      <th>0</th>\n",
       "      <td>Toyoty</td>\n",
       "      <td>Aygo</td>\n",
       "      <td>-1.593366</td>\n",
       "      <td>-2.103893</td>\n",
       "      <td>99</td>\n",
       "    </tr>\n",
       "    <tr>\n",
       "      <th>1</th>\n",
       "      <td>Mitsubishi</td>\n",
       "      <td>Space Star</td>\n",
       "      <td>-1.071901</td>\n",
       "      <td>-0.554072</td>\n",
       "      <td>95</td>\n",
       "    </tr>\n",
       "    <tr>\n",
       "      <th>2</th>\n",
       "      <td>Skoda</td>\n",
       "      <td>Citigo</td>\n",
       "      <td>-1.593366</td>\n",
       "      <td>-1.521663</td>\n",
       "      <td>95</td>\n",
       "    </tr>\n",
       "    <tr>\n",
       "      <th>3</th>\n",
       "      <td>Fiat</td>\n",
       "      <td>500</td>\n",
       "      <td>-1.854099</td>\n",
       "      <td>-1.789740</td>\n",
       "      <td>90</td>\n",
       "    </tr>\n",
       "    <tr>\n",
       "      <th>4</th>\n",
       "      <td>Mini</td>\n",
       "      <td>Cooper</td>\n",
       "      <td>-0.289703</td>\n",
       "      <td>-0.637846</td>\n",
       "      <td>105</td>\n",
       "    </tr>\n",
       "  </tbody>\n",
       "</table>\n",
       "</div>"
      ],
      "text/plain": [
       "          Car       Model    Volume    Weight  CO2\n",
       "0      Toyoty        Aygo -1.593366 -2.103893   99\n",
       "1  Mitsubishi  Space Star -1.071901 -0.554072   95\n",
       "2       Skoda      Citigo -1.593366 -1.521663   95\n",
       "3        Fiat         500 -1.854099 -1.789740   90\n",
       "4        Mini      Cooper -0.289703 -0.637846  105"
      ]
     },
     "execution_count": 47,
     "metadata": {},
     "output_type": "execute_result"
    }
   ],
   "source": [
    "df[[\"Weight\",\"Volume\"]] = scaledX\n",
    "df.head()"
   ]
  },
  {
   "cell_type": "markdown",
   "metadata": {},
   "source": [
    "- Result:\n",
    "\n",
    "- Note that the first two values are -2.1 and -1.59, which corresponds to our calculations: "
   ]
  },
  {
   "cell_type": "markdown",
   "metadata": {},
   "source": [
    "<span style='color:green; font-size:40px'>13.2 - Predict CO2 Values </span>"
   ]
  },
  {
   "cell_type": "markdown",
   "metadata": {},
   "source": [
    "- The task in the Multiple Regression chapter was to predict the CO2 emission from a car when you only knew its weight and volume.\n",
    "\n",
    "- When the data set is scaled, you will have to use the scale when you predict values:"
   ]
  },
  {
   "cell_type": "code",
   "execution_count": 48,
   "metadata": {},
   "outputs": [
    {
     "name": "stdout",
     "output_type": "stream",
     "text": [
      "[107.2087328]\n"
     ]
    },
    {
     "name": "stderr",
     "output_type": "stream",
     "text": [
      "c:\\Program Files\\Python312\\Lib\\site-packages\\sklearn\\base.py:493: UserWarning: X does not have valid feature names, but StandardScaler was fitted with feature names\n",
      "  warnings.warn(\n"
     ]
    }
   ],
   "source": [
    "regr.fit(scaledX, y)\n",
    "scaled = scale.transform([[2300, 1.3]])\n",
    "\n",
    "predictedCO2 = regr.predict([scaled[0]])\n",
    "print(predictedCO2)"
   ]
  },
  {
   "cell_type": "markdown",
   "metadata": {},
   "source": [
    "<span style='color:green; font-size:40px'>14 - Train / Test </span>"
   ]
  },
  {
   "cell_type": "markdown",
   "metadata": {},
   "source": [
    "- Comming Soon"
   ]
  }
 ],
 "metadata": {
  "kernelspec": {
   "display_name": "Python 3",
   "language": "python",
   "name": "python3"
  },
  "language_info": {
   "codemirror_mode": {
    "name": "ipython",
    "version": 3
   },
   "file_extension": ".py",
   "mimetype": "text/x-python",
   "name": "python",
   "nbconvert_exporter": "python",
   "pygments_lexer": "ipython3",
   "version": "3.12.2"
  }
 },
 "nbformat": 4,
 "nbformat_minor": 2
}
